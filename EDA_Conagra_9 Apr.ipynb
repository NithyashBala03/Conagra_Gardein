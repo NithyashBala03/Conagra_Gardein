{
 "cells": [
  {
   "cell_type": "code",
   "execution_count": 1,
   "id": "19f3f353",
   "metadata": {},
   "outputs": [],
   "source": [
    "import numpy as np, pandas as pd"
   ]
  },
  {
   "cell_type": "code",
   "execution_count": 12,
   "id": "f8abf5bb",
   "metadata": {},
   "outputs": [],
   "source": [
    "import seaborn as sns"
   ]
  },
  {
   "cell_type": "code",
   "execution_count": 15,
   "id": "7b05a474",
   "metadata": {},
   "outputs": [],
   "source": [
    "import matplotlib.pyplot as plt\n",
    "%matplotlib inline"
   ]
  },
  {
   "cell_type": "code",
   "execution_count": 2,
   "id": "0f7b2828",
   "metadata": {},
   "outputs": [
    {
     "data": {
      "text/plain": [
       "'E:\\\\Dallas UT\\\\24 Spring\\\\Predictive Analytics\\\\Conagra'"
      ]
     },
     "execution_count": 2,
     "metadata": {},
     "output_type": "execute_result"
    }
   ],
   "source": [
    "pwd"
   ]
  },
  {
   "cell_type": "code",
   "execution_count": 2,
   "id": "c2dc5ce7",
   "metadata": {},
   "outputs": [],
   "source": [
    "import os"
   ]
  },
  {
   "cell_type": "code",
   "execution_count": 5,
   "id": "065a4bf0",
   "metadata": {},
   "outputs": [],
   "source": [
    "os.chdir('E:/Dallas UT/24 Spring/Predictive Analytics/Conagra/Data')"
   ]
  },
  {
   "cell_type": "code",
   "execution_count": 6,
   "id": "81a5a3d4",
   "metadata": {},
   "outputs": [
    {
     "data": {
      "text/plain": [
       "'E:\\\\Dallas UT\\\\24 Spring\\\\Predictive Analytics\\\\Conagra\\\\Data'"
      ]
     },
     "execution_count": 6,
     "metadata": {},
     "output_type": "execute_result"
    }
   ],
   "source": [
    "pwd"
   ]
  },
  {
   "cell_type": "code",
   "execution_count": 16,
   "id": "97d1bb1a",
   "metadata": {},
   "outputs": [
    {
     "name": "stdout",
     "output_type": "stream",
     "text": [
      " Volume in drive E is New Volume\n",
      " Volume Serial Number is DE45-1ABD\n",
      "\n",
      " Directory of E:\\Dallas UT\\24 Spring\\Predictive Analytics\\Conagra\\Data\n",
      "\n",
      "03-Mar-Sun  11:50    <DIR>          .\n",
      "03-Mar-Sun  11:50    <DIR>          ..\n",
      "28-Feb-Wed  05:21        53,281,335 Fz Meat_POS_2020.xlsx\n",
      "15-Feb-Thu  07:36        52,828,191 Fz Meat_POS_2021.xlsx\n",
      "15-Feb-Thu  07:36        51,816,455 Fz Meat_POS_2022.xlsx\n",
      "15-Feb-Thu  07:36        48,763,482 Fz Meat_POS_2023.xlsx\n",
      "03-Mar-Sun  06:45         2,608,690 Fz Meat_POS_2024.xlsx\n",
      "15-Feb-Thu  07:37       165,263,585 Fz Seafood_POS_2020.xlsx\n",
      "15-Feb-Thu  07:37       167,476,298 Fz Seafood_POS_2021.xlsx\n",
      "15-Feb-Thu  07:37       165,920,784 Fz Seafood_POS_2022.xlsx\n",
      "15-Feb-Thu  07:38       165,684,995 Fz Seafood_POS_2023.xlsx\n",
      "15-Feb-Thu  07:38         9,274,119 Fz Seafood_POS_2024.xlsx\n",
      "15-Feb-Thu  07:38        66,869,083 Fz_Rfg Poultry_POS_2020.xlsx\n",
      "15-Feb-Thu  07:39        64,875,413 Fz_Rfg Poultry_POS_2021.xlsx\n",
      "15-Feb-Thu  07:39        60,125,605 Fz_Rfg Poultry_POS_2022.xlsx\n",
      "15-Feb-Thu  07:39        57,967,222 Fz_Rfg Poultry_POS_2023.xlsx\n",
      "15-Feb-Thu  07:39         3,173,665 Fz_Rfg Poultry_POS_2024.xlsx\n",
      "15-Feb-Thu  07:39        64,231,400 Fz_Rfg Processed Poultry_POS_2020.xlsx\n",
      "15-Feb-Thu  07:40        56,820,899 Fz_Rfg Processed Poultry_POS_2021.xlsx\n",
      "15-Feb-Thu  07:40        50,943,349 Fz_Rfg Processed Poultry_POS_2022.xlsx\n",
      "15-Feb-Thu  07:40        51,326,620 Fz_Rfg Processed Poultry_POS_2023.xlsx\n",
      "15-Feb-Thu  07:40         2,904,498 Fz_Rfg Processed Poultry_POS_2024.xlsx\n",
      "03-Mar-Sun  06:46        81,795,160 Fz_Rfg Substitute Meat_POS_2020.xlsx\n",
      "15-Feb-Thu  07:40        96,247,615 Fz_Rfg Substitute Meat_POS_2021.xlsx\n",
      "15-Feb-Thu  07:41       104,117,849 Fz_Rfg Substitute Meat_POS_2022.xlsx\n",
      "15-Feb-Thu  07:41        94,969,194 Fz_Rfg Substitute Meat_POS_2023.xlsx\n",
      "03-Mar-Sun  06:45         5,054,116 Fz_Rfg Substitute Meat_POS_2024.xlsx\n",
      "15-Feb-Thu  07:41            39,716 NET Data.xlsx\n",
      "15-Feb-Thu  07:41         1,881,824 Panel_Buyer Distribution.xlsx\n",
      "15-Feb-Thu  07:41           405,131 Panel_HH Buying.xlsx\n",
      "15-Feb-Thu  07:41         4,858,097 Product Attributes.xlsx\n",
      "15-Feb-Thu  07:41        85,321,382 Rfg Bkfst Meats_POS_2020.xlsx\n",
      "15-Feb-Thu  07:42        82,565,053 Rfg Bkfst Meats_POS_2021.xlsx\n",
      "15-Feb-Thu  07:42        81,622,500 Rfg Bkfst Meats_POS_2022.xlsx\n",
      "15-Feb-Thu  07:42        79,764,927 Rfg Bkfst Meats_POS_2023.xlsx\n",
      "15-Feb-Thu  07:42         4,410,697 Rfg Bkfst Meats_POS_2024.xlsx\n",
      "15-Feb-Thu  07:42       115,816,787 Rfg Dinner Ssg_POS_2020.xlsx\n",
      "15-Feb-Thu  07:43       116,700,220 Rfg Dinner Ssg_POS_2021.xlsx\n",
      "15-Feb-Thu  07:43       115,863,205 Rfg Dinner Ssg_POS_2022.xlsx\n",
      "15-Feb-Thu  07:44       113,540,546 Rfg Dinner Ssg_POS_2023.xlsx\n",
      "15-Feb-Thu  07:44         6,296,705 Rfg Dinner Ssg_POS_2024.xlsx\n",
      "15-Feb-Thu  07:44        36,845,665 Rfg Frankfurters_POS_2020.xlsx\n",
      "15-Feb-Thu  07:44        36,608,406 Rfg Frankfurters_POS_2021.xlsx\n",
      "15-Feb-Thu  07:44        35,562,513 Rfg Frankfurters_POS_2022.xlsx\n",
      "15-Feb-Thu  07:44        34,046,444 Rfg Frankfurters_POS_2023.xlsx\n",
      "15-Feb-Thu  07:44         1,840,553 Rfg Frankfurters_POS_2024.xlsx\n",
      "15-Feb-Thu  07:44         1,242,140 Rfg Ham_POS_2020.xlsx\n",
      "15-Feb-Thu  07:44         1,250,289 Rfg Ham_POS_2021.xlsx\n",
      "15-Feb-Thu  07:44         1,280,710 Rfg Ham_POS_2022.xlsx\n",
      "15-Feb-Thu  07:44         1,340,816 Rfg Ham_POS_2023.xlsx\n",
      "15-Feb-Thu  07:44            96,653 Rfg Ham_POS_2024.xlsx\n",
      "15-Feb-Thu  07:44       142,584,430 Rfg Lunch Meats_POS_2020.xlsx\n",
      "15-Feb-Thu  07:45       142,135,186 Rfg Lunch Meats_POS_2021.xlsx\n",
      "15-Feb-Thu  07:45       136,603,010 Rfg Lunch Meats_POS_2022.xlsx\n",
      "15-Feb-Thu  07:45       134,254,003 Rfg Lunch Meats_POS_2023.xlsx\n",
      "15-Feb-Thu  07:46         7,660,341 Rfg Lunch Meats_POS_2024.xlsx\n",
      "15-Feb-Thu  07:46        59,571,245 Rfg Meat_POS_2020.xlsx\n",
      "15-Feb-Thu  07:46        63,285,765 Rfg Meat_POS_2021.xlsx\n",
      "15-Feb-Thu  07:46        65,876,427 Rfg Meat_POS_2022.xlsx\n",
      "15-Feb-Thu  07:46        64,404,925 Rfg Meat_POS_2023.xlsx\n",
      "15-Feb-Thu  07:46         3,506,832 Rfg Meat_POS_2024.xlsx\n",
      "15-Feb-Thu  07:46        50,092,097 Rfg Seafood_POS_2020.xlsx\n",
      "15-Feb-Thu  07:46        50,765,671 Rfg Seafood_POS_2021.xlsx\n",
      "15-Feb-Thu  07:47        50,455,297 Rfg Seafood_POS_2022.xlsx\n",
      "15-Feb-Thu  07:47        51,958,746 Rfg Seafood_POS_2023.xlsx\n",
      "15-Feb-Thu  07:47         2,960,065 Rfg Seafood_POS_2024.xlsx\n",
      "              64 File(s)  3,729,654,641 bytes\n",
      "               2 Dir(s)  119,744,385,024 bytes free\n"
     ]
    }
   ],
   "source": [
    "ls"
   ]
  },
  {
   "cell_type": "code",
   "execution_count": 9,
   "id": "04b3e967",
   "metadata": {},
   "outputs": [],
   "source": [
    "df = pd.read_excel('Fz Meat_POS_2020.xlsx')"
   ]
  },
  {
   "cell_type": "code",
   "execution_count": 10,
   "id": "2c58747d",
   "metadata": {},
   "outputs": [
    {
     "data": {
      "text/html": [
       "<div>\n",
       "<style scoped>\n",
       "    .dataframe tbody tr th:only-of-type {\n",
       "        vertical-align: middle;\n",
       "    }\n",
       "\n",
       "    .dataframe tbody tr th {\n",
       "        vertical-align: top;\n",
       "    }\n",
       "\n",
       "    .dataframe thead th {\n",
       "        text-align: right;\n",
       "    }\n",
       "</style>\n",
       "<table border=\"1\" class=\"dataframe\">\n",
       "  <thead>\n",
       "    <tr style=\"text-align: right;\">\n",
       "      <th></th>\n",
       "      <th>Geography</th>\n",
       "      <th>Time</th>\n",
       "      <th>Product</th>\n",
       "      <th>UPC 13 digit</th>\n",
       "      <th>Unit Sales</th>\n",
       "      <th>Volume Sales</th>\n",
       "      <th>Dollar Sales</th>\n",
       "      <th>Price per Unit</th>\n",
       "      <th>Price per Volume</th>\n",
       "      <th>Base Unit Sales</th>\n",
       "      <th>Base Volume Sales</th>\n",
       "      <th>Base Dollar Sales</th>\n",
       "      <th>Incremental Units</th>\n",
       "      <th>Incremental Volume</th>\n",
       "      <th>Incremental Dollars</th>\n",
       "      <th>ACV Weighted Distribution</th>\n",
       "    </tr>\n",
       "  </thead>\n",
       "  <tbody>\n",
       "    <tr>\n",
       "      <th>0</th>\n",
       "      <td>Total US - Multi Outlet + Conv</td>\n",
       "      <td>Week Ending 01-12-20</td>\n",
       "      <td>AL SAFA HALAL FROZEN BEEF HOTDOG 12.6 OZ - 062...</td>\n",
       "      <td>624967436101</td>\n",
       "      <td>30.024498</td>\n",
       "      <td>23.644292</td>\n",
       "      <td>199.207954</td>\n",
       "      <td>6.634847</td>\n",
       "      <td>8.425203</td>\n",
       "      <td>30.024498</td>\n",
       "      <td>23.644292</td>\n",
       "      <td>199.207954</td>\n",
       "      <td>NaN</td>\n",
       "      <td>NaN</td>\n",
       "      <td>NaN</td>\n",
       "      <td>0.033770</td>\n",
       "    </tr>\n",
       "    <tr>\n",
       "      <th>1</th>\n",
       "      <td>Total US - Multi Outlet + Conv</td>\n",
       "      <td>Week Ending 01-12-20</td>\n",
       "      <td>AL SAFA HALAL FROZEN CHICKEN FRANKFURTER 12 OZ...</td>\n",
       "      <td>624967508101</td>\n",
       "      <td>60.278876</td>\n",
       "      <td>45.209157</td>\n",
       "      <td>219.138867</td>\n",
       "      <td>3.635417</td>\n",
       "      <td>4.847223</td>\n",
       "      <td>60.278876</td>\n",
       "      <td>45.209157</td>\n",
       "      <td>219.138867</td>\n",
       "      <td>NaN</td>\n",
       "      <td>NaN</td>\n",
       "      <td>NaN</td>\n",
       "      <td>0.050171</td>\n",
       "    </tr>\n",
       "    <tr>\n",
       "      <th>2</th>\n",
       "      <td>Total US - Multi Outlet + Conv</td>\n",
       "      <td>Week Ending 01-12-20</td>\n",
       "      <td>COUNTRY FRESH MEATS FROZEN PORK AND BEEF HOTDO...</td>\n",
       "      <td>829905000521</td>\n",
       "      <td>79.387175</td>\n",
       "      <td>79.387175</td>\n",
       "      <td>475.529176</td>\n",
       "      <td>5.990000</td>\n",
       "      <td>5.990000</td>\n",
       "      <td>79.387175</td>\n",
       "      <td>79.387175</td>\n",
       "      <td>475.529176</td>\n",
       "      <td>NaN</td>\n",
       "      <td>NaN</td>\n",
       "      <td>NaN</td>\n",
       "      <td>0.002639</td>\n",
       "    </tr>\n",
       "    <tr>\n",
       "      <th>3</th>\n",
       "      <td>Total US - Multi Outlet + Conv</td>\n",
       "      <td>Week Ending 01-12-20</td>\n",
       "      <td>MARTIN PUREFOODS FROZEN BEEF AND PORK HOTDOG 1...</td>\n",
       "      <td>90163001812</td>\n",
       "      <td>13.719284</td>\n",
       "      <td>10.289463</td>\n",
       "      <td>89.217078</td>\n",
       "      <td>6.503042</td>\n",
       "      <td>8.670723</td>\n",
       "      <td>13.719284</td>\n",
       "      <td>10.289463</td>\n",
       "      <td>89.217078</td>\n",
       "      <td>NaN</td>\n",
       "      <td>NaN</td>\n",
       "      <td>NaN</td>\n",
       "      <td>0.011521</td>\n",
       "    </tr>\n",
       "    <tr>\n",
       "      <th>4</th>\n",
       "      <td>Total US - Multi Outlet + Conv</td>\n",
       "      <td>Week Ending 01-12-20</td>\n",
       "      <td>MARTIN PUREFOODS FROZEN PORK FRANKFURTER 16 OZ...</td>\n",
       "      <td>90163001191</td>\n",
       "      <td>9.572780</td>\n",
       "      <td>9.572780</td>\n",
       "      <td>52.686511</td>\n",
       "      <td>5.503784</td>\n",
       "      <td>5.503784</td>\n",
       "      <td>9.572780</td>\n",
       "      <td>9.572780</td>\n",
       "      <td>52.686511</td>\n",
       "      <td>NaN</td>\n",
       "      <td>NaN</td>\n",
       "      <td>NaN</td>\n",
       "      <td>0.008065</td>\n",
       "    </tr>\n",
       "  </tbody>\n",
       "</table>\n",
       "</div>"
      ],
      "text/plain": [
       "                        Geography                  Time  \\\n",
       "0  Total US - Multi Outlet + Conv  Week Ending 01-12-20   \n",
       "1  Total US - Multi Outlet + Conv  Week Ending 01-12-20   \n",
       "2  Total US - Multi Outlet + Conv  Week Ending 01-12-20   \n",
       "3  Total US - Multi Outlet + Conv  Week Ending 01-12-20   \n",
       "4  Total US - Multi Outlet + Conv  Week Ending 01-12-20   \n",
       "\n",
       "                                             Product  UPC 13 digit  \\\n",
       "0  AL SAFA HALAL FROZEN BEEF HOTDOG 12.6 OZ - 062...  624967436101   \n",
       "1  AL SAFA HALAL FROZEN CHICKEN FRANKFURTER 12 OZ...  624967508101   \n",
       "2  COUNTRY FRESH MEATS FROZEN PORK AND BEEF HOTDO...  829905000521   \n",
       "3  MARTIN PUREFOODS FROZEN BEEF AND PORK HOTDOG 1...   90163001812   \n",
       "4  MARTIN PUREFOODS FROZEN PORK FRANKFURTER 16 OZ...   90163001191   \n",
       "\n",
       "   Unit Sales  Volume Sales  Dollar Sales  Price per Unit  Price per Volume  \\\n",
       "0   30.024498     23.644292    199.207954        6.634847          8.425203   \n",
       "1   60.278876     45.209157    219.138867        3.635417          4.847223   \n",
       "2   79.387175     79.387175    475.529176        5.990000          5.990000   \n",
       "3   13.719284     10.289463     89.217078        6.503042          8.670723   \n",
       "4    9.572780      9.572780     52.686511        5.503784          5.503784   \n",
       "\n",
       "   Base Unit Sales  Base Volume Sales  Base Dollar Sales  Incremental Units  \\\n",
       "0        30.024498          23.644292         199.207954                NaN   \n",
       "1        60.278876          45.209157         219.138867                NaN   \n",
       "2        79.387175          79.387175         475.529176                NaN   \n",
       "3        13.719284          10.289463          89.217078                NaN   \n",
       "4         9.572780           9.572780          52.686511                NaN   \n",
       "\n",
       "   Incremental Volume  Incremental Dollars  ACV Weighted Distribution  \n",
       "0                 NaN                  NaN                   0.033770  \n",
       "1                 NaN                  NaN                   0.050171  \n",
       "2                 NaN                  NaN                   0.002639  \n",
       "3                 NaN                  NaN                   0.011521  \n",
       "4                 NaN                  NaN                   0.008065  "
      ]
     },
     "execution_count": 10,
     "metadata": {},
     "output_type": "execute_result"
    }
   ],
   "source": [
    "df.head()"
   ]
  },
  {
   "cell_type": "code",
   "execution_count": 12,
   "id": "21fcfe21",
   "metadata": {},
   "outputs": [
    {
     "data": {
      "text/plain": [
       "16"
      ]
     },
     "execution_count": 12,
     "metadata": {},
     "output_type": "execute_result"
    }
   ],
   "source": [
    "len(df.columns)"
   ]
  },
  {
   "cell_type": "code",
   "execution_count": 14,
   "id": "96c3e1a8",
   "metadata": {},
   "outputs": [
    {
     "data": {
      "text/plain": [
       "313569"
      ]
     },
     "execution_count": 14,
     "metadata": {},
     "output_type": "execute_result"
    }
   ],
   "source": [
    "len(df)"
   ]
  },
  {
   "cell_type": "code",
   "execution_count": 18,
   "id": "fd6ea775",
   "metadata": {},
   "outputs": [
    {
     "name": "stdout",
     "output_type": "stream",
     "text": [
      "Files in the folder:\n",
      "Fz Meat_POS_2020.xlsx\n",
      "Fz Meat_POS_2021.xlsx\n",
      "Fz Meat_POS_2022.xlsx\n",
      "Fz Meat_POS_2023.xlsx\n",
      "Fz Meat_POS_2024.xlsx\n",
      "Fz Seafood_POS_2020.xlsx\n",
      "Fz Seafood_POS_2021.xlsx\n",
      "Fz Seafood_POS_2022.xlsx\n",
      "Fz Seafood_POS_2023.xlsx\n",
      "Fz Seafood_POS_2024.xlsx\n",
      "Fz_Rfg Poultry_POS_2020.xlsx\n",
      "Fz_Rfg Poultry_POS_2021.xlsx\n",
      "Fz_Rfg Poultry_POS_2022.xlsx\n",
      "Fz_Rfg Poultry_POS_2023.xlsx\n",
      "Fz_Rfg Poultry_POS_2024.xlsx\n",
      "Fz_Rfg Processed Poultry_POS_2020.xlsx\n",
      "Fz_Rfg Processed Poultry_POS_2021.xlsx\n",
      "Fz_Rfg Processed Poultry_POS_2022.xlsx\n",
      "Fz_Rfg Processed Poultry_POS_2023.xlsx\n",
      "Fz_Rfg Processed Poultry_POS_2024.xlsx\n",
      "Fz_Rfg Substitute Meat_POS_2020.xlsx\n",
      "Fz_Rfg Substitute Meat_POS_2021.xlsx\n",
      "Fz_Rfg Substitute Meat_POS_2022.xlsx\n",
      "Fz_Rfg Substitute Meat_POS_2023.xlsx\n",
      "Fz_Rfg Substitute Meat_POS_2024.xlsx\n",
      "NET Data.xlsx\n",
      "Panel_Buyer Distribution.xlsx\n",
      "Panel_HH Buying.xlsx\n",
      "Product Attributes.xlsx\n",
      "Rfg Bkfst Meats_POS_2020.xlsx\n",
      "Rfg Bkfst Meats_POS_2021.xlsx\n",
      "Rfg Bkfst Meats_POS_2022.xlsx\n",
      "Rfg Bkfst Meats_POS_2023.xlsx\n",
      "Rfg Bkfst Meats_POS_2024.xlsx\n",
      "Rfg Dinner Ssg_POS_2020.xlsx\n",
      "Rfg Dinner Ssg_POS_2021.xlsx\n",
      "Rfg Dinner Ssg_POS_2022.xlsx\n",
      "Rfg Dinner Ssg_POS_2023.xlsx\n",
      "Rfg Dinner Ssg_POS_2024.xlsx\n",
      "Rfg Frankfurters_POS_2020.xlsx\n",
      "Rfg Frankfurters_POS_2021.xlsx\n",
      "Rfg Frankfurters_POS_2022.xlsx\n",
      "Rfg Frankfurters_POS_2023.xlsx\n",
      "Rfg Frankfurters_POS_2024.xlsx\n",
      "Rfg Ham_POS_2020.xlsx\n",
      "Rfg Ham_POS_2021.xlsx\n",
      "Rfg Ham_POS_2022.xlsx\n",
      "Rfg Ham_POS_2023.xlsx\n",
      "Rfg Ham_POS_2024.xlsx\n",
      "Rfg Lunch Meats_POS_2020.xlsx\n",
      "Rfg Lunch Meats_POS_2021.xlsx\n",
      "Rfg Lunch Meats_POS_2022.xlsx\n",
      "Rfg Lunch Meats_POS_2023.xlsx\n",
      "Rfg Lunch Meats_POS_2024.xlsx\n",
      "Rfg Meat_POS_2020.xlsx\n",
      "Rfg Meat_POS_2021.xlsx\n",
      "Rfg Meat_POS_2022.xlsx\n",
      "Rfg Meat_POS_2023.xlsx\n",
      "Rfg Meat_POS_2024.xlsx\n",
      "Rfg Seafood_POS_2020.xlsx\n",
      "Rfg Seafood_POS_2021.xlsx\n",
      "Rfg Seafood_POS_2022.xlsx\n",
      "Rfg Seafood_POS_2023.xlsx\n",
      "Rfg Seafood_POS_2024.xlsx\n"
     ]
    }
   ],
   "source": [
    "files = os.listdir('E:/Dallas UT/24 Spring/Predictive Analytics/Conagra/Data')\n",
    "\n",
    "# Print the list of files\n",
    "print(\"Files in the folder:\")\n",
    "for file in files:\n",
    "    df=pd.read_excel('file')"
   ]
  },
  {
   "cell_type": "code",
   "execution_count": 19,
   "id": "c127cb40",
   "metadata": {},
   "outputs": [
    {
     "data": {
      "text/plain": [
       "list"
      ]
     },
     "execution_count": 19,
     "metadata": {},
     "output_type": "execute_result"
    }
   ],
   "source": [
    "type(files)"
   ]
  },
  {
   "cell_type": "code",
   "execution_count": 27,
   "id": "9a5898cd",
   "metadata": {},
   "outputs": [],
   "source": [
    "df1 = pd.DataFrame(columns=['File name', 'No of columns', 'Data size', 'Column names'])"
   ]
  },
  {
   "cell_type": "code",
   "execution_count": 28,
   "id": "533e547f",
   "metadata": {},
   "outputs": [],
   "source": [
    "for file in ['Fz Meat_POS_2020.xlsx','Fz Meat_POS_2021.xlsx','Fz Meat_POS_2022.xlsx','Fz Meat_POS_2023.xlsx','Fz Meat_POS_2024.xlsx']:\n",
    "    df=pd.read_excel(file)\n",
    "    df1 = df1.append({'File name': file, 'No of columns': len(df.columns), 'Data size': len(df),'Column names':df.columns}, ignore_index=True)"
   ]
  },
  {
   "cell_type": "code",
   "execution_count": 29,
   "id": "d9ab241a",
   "metadata": {},
   "outputs": [
    {
     "data": {
      "text/html": [
       "<div>\n",
       "<style scoped>\n",
       "    .dataframe tbody tr th:only-of-type {\n",
       "        vertical-align: middle;\n",
       "    }\n",
       "\n",
       "    .dataframe tbody tr th {\n",
       "        vertical-align: top;\n",
       "    }\n",
       "\n",
       "    .dataframe thead th {\n",
       "        text-align: right;\n",
       "    }\n",
       "</style>\n",
       "<table border=\"1\" class=\"dataframe\">\n",
       "  <thead>\n",
       "    <tr style=\"text-align: right;\">\n",
       "      <th></th>\n",
       "      <th>File name</th>\n",
       "      <th>No of columns</th>\n",
       "      <th>Data size</th>\n",
       "      <th>Column names</th>\n",
       "    </tr>\n",
       "  </thead>\n",
       "  <tbody>\n",
       "    <tr>\n",
       "      <th>0</th>\n",
       "      <td>Fz Meat_POS_2020.xlsx</td>\n",
       "      <td>16</td>\n",
       "      <td>313569</td>\n",
       "      <td>Index(['Geography', 'Time', 'Product', 'UPC 13...</td>\n",
       "    </tr>\n",
       "    <tr>\n",
       "      <th>1</th>\n",
       "      <td>Fz Meat_POS_2021.xlsx</td>\n",
       "      <td>16</td>\n",
       "      <td>301319</td>\n",
       "      <td>Index(['Geography', 'Time', 'Product', 'UPC 13...</td>\n",
       "    </tr>\n",
       "    <tr>\n",
       "      <th>2</th>\n",
       "      <td>Fz Meat_POS_2022.xlsx</td>\n",
       "      <td>16</td>\n",
       "      <td>292524</td>\n",
       "      <td>Index(['Geography', 'Time', 'Product', 'UPC 13...</td>\n",
       "    </tr>\n",
       "    <tr>\n",
       "      <th>3</th>\n",
       "      <td>Fz Meat_POS_2023.xlsx</td>\n",
       "      <td>16</td>\n",
       "      <td>272545</td>\n",
       "      <td>Index(['Geography', 'Time', 'Product', 'UPC 13...</td>\n",
       "    </tr>\n",
       "    <tr>\n",
       "      <th>4</th>\n",
       "      <td>Fz Meat_POS_2024.xlsx</td>\n",
       "      <td>16</td>\n",
       "      <td>14819</td>\n",
       "      <td>Index(['Geography', 'Time', 'Product', 'UPC 13...</td>\n",
       "    </tr>\n",
       "  </tbody>\n",
       "</table>\n",
       "</div>"
      ],
      "text/plain": [
       "               File name No of columns Data size  \\\n",
       "0  Fz Meat_POS_2020.xlsx            16    313569   \n",
       "1  Fz Meat_POS_2021.xlsx            16    301319   \n",
       "2  Fz Meat_POS_2022.xlsx            16    292524   \n",
       "3  Fz Meat_POS_2023.xlsx            16    272545   \n",
       "4  Fz Meat_POS_2024.xlsx            16     14819   \n",
       "\n",
       "                                        Column names  \n",
       "0  Index(['Geography', 'Time', 'Product', 'UPC 13...  \n",
       "1  Index(['Geography', 'Time', 'Product', 'UPC 13...  \n",
       "2  Index(['Geography', 'Time', 'Product', 'UPC 13...  \n",
       "3  Index(['Geography', 'Time', 'Product', 'UPC 13...  \n",
       "4  Index(['Geography', 'Time', 'Product', 'UPC 13...  "
      ]
     },
     "execution_count": 29,
     "metadata": {},
     "output_type": "execute_result"
    }
   ],
   "source": [
    "df1"
   ]
  },
  {
   "cell_type": "code",
   "execution_count": 26,
   "id": "2fec060c",
   "metadata": {},
   "outputs": [],
   "source": [
    "del df1"
   ]
  },
  {
   "cell_type": "code",
   "execution_count": 3,
   "id": "5904e71a",
   "metadata": {},
   "outputs": [],
   "source": [
    "os.chdir('E:/Dallas UT/24 Spring/Predictive Analytics/Conagra/Data')"
   ]
  },
  {
   "cell_type": "code",
   "execution_count": 4,
   "id": "1f566912",
   "metadata": {},
   "outputs": [
    {
     "data": {
      "text/plain": [
       "'E:\\\\Dallas UT\\\\24 Spring\\\\Predictive Analytics\\\\Conagra\\\\Data'"
      ]
     },
     "execution_count": 4,
     "metadata": {},
     "output_type": "execute_result"
    }
   ],
   "source": [
    "pwd"
   ]
  },
  {
   "cell_type": "code",
   "execution_count": 5,
   "id": "24d4a802",
   "metadata": {},
   "outputs": [],
   "source": [
    "df = pd.read_excel('Gardein products_UPCs.xlsx')"
   ]
  },
  {
   "cell_type": "code",
   "execution_count": 6,
   "id": "ed71b66c",
   "metadata": {},
   "outputs": [
    {
     "data": {
      "text/html": [
       "<div>\n",
       "<style scoped>\n",
       "    .dataframe tbody tr th:only-of-type {\n",
       "        vertical-align: middle;\n",
       "    }\n",
       "\n",
       "    .dataframe tbody tr th {\n",
       "        vertical-align: top;\n",
       "    }\n",
       "\n",
       "    .dataframe thead th {\n",
       "        text-align: right;\n",
       "    }\n",
       "</style>\n",
       "<table border=\"1\" class=\"dataframe\">\n",
       "  <thead>\n",
       "    <tr style=\"text-align: right;\">\n",
       "      <th></th>\n",
       "      <th>Product</th>\n",
       "      <th>UPC 13 digit</th>\n",
       "      <th>Aisle Name</th>\n",
       "      <th>Category Name</th>\n",
       "      <th>Sub-Category Name</th>\n",
       "      <th>Manufacturer Name</th>\n",
       "      <th>Brand Franchise Name</th>\n",
       "      <th>Brand Name</th>\n",
       "      <th>Package</th>\n",
       "      <th>Total Count</th>\n",
       "      <th>Total Ounces</th>\n",
       "      <th>Form</th>\n",
       "      <th>Flavor / Scent</th>\n",
       "      <th>Meat Source</th>\n",
       "      <th>Product Type</th>\n",
       "      <th>Type Of Meat Substituted</th>\n",
       "      <th>Type Of Substitute</th>\n",
       "      <th>Cooked Info</th>\n",
       "    </tr>\n",
       "  </thead>\n",
       "  <tbody>\n",
       "    <tr>\n",
       "      <th>0</th>\n",
       "      <td>GARDEIN FROZEN BEEF MEAT SUBSTITUTE TIP 9 OZ -...</td>\n",
       "      <td>842234000511</td>\n",
       "      <td>AISLE-FROZEN MEAT/POULTRY/SEAFOOD</td>\n",
       "      <td>SUBSTITUTE MEAT/POULTRY/SEAFOOD - FZ/RFG</td>\n",
       "      <td>FZ MEAT SUBSTITUTES</td>\n",
       "      <td>CONAGRA BRANDS</td>\n",
       "      <td>GARDEIN</td>\n",
       "      <td>GARDEIN</td>\n",
       "      <td>RESEALABLE PLASTIC BAG</td>\n",
       "      <td>1</td>\n",
       "      <td>9.0</td>\n",
       "      <td>TIP</td>\n",
       "      <td>BEEF</td>\n",
       "      <td>NaN</td>\n",
       "      <td>MEAT SUBSTITUTE</td>\n",
       "      <td>BEEF</td>\n",
       "      <td>PLANT BASED</td>\n",
       "      <td>COOK THOROUGHLY</td>\n",
       "    </tr>\n",
       "    <tr>\n",
       "      <th>1</th>\n",
       "      <td>GARDEIN FROZEN CHICKEN MEAT SUBSTITUTE FILET 1...</td>\n",
       "      <td>842234002491</td>\n",
       "      <td>AISLE-FROZEN MEAT/POULTRY/SEAFOOD</td>\n",
       "      <td>SUBSTITUTE MEAT/POULTRY/SEAFOOD - FZ/RFG</td>\n",
       "      <td>FZ MEAT SUBSTITUTES</td>\n",
       "      <td>CONAGRA BRANDS</td>\n",
       "      <td>GARDEIN</td>\n",
       "      <td>GARDEIN</td>\n",
       "      <td>RESEALABLE PLASTIC BAG</td>\n",
       "      <td>3</td>\n",
       "      <td>15.0</td>\n",
       "      <td>FILET</td>\n",
       "      <td>CHICKEN</td>\n",
       "      <td>NaN</td>\n",
       "      <td>MEAT SUBSTITUTE</td>\n",
       "      <td>VALUE NOT AVAILABLE</td>\n",
       "      <td>PLANT BASED</td>\n",
       "      <td>COOK THOROUGHLY</td>\n",
       "    </tr>\n",
       "    <tr>\n",
       "      <th>2</th>\n",
       "      <td>GARDEIN FROZEN CHIPOTLE BLACK BEAN MEAT SUBSTI...</td>\n",
       "      <td>842234001631</td>\n",
       "      <td>AISLE-FROZEN MEAT/POULTRY/SEAFOOD</td>\n",
       "      <td>SUBSTITUTE MEAT/POULTRY/SEAFOOD - FZ/RFG</td>\n",
       "      <td>FZ MEAT SUBSTITUTES</td>\n",
       "      <td>CONAGRA BRANDS</td>\n",
       "      <td>GARDEIN</td>\n",
       "      <td>GARDEIN</td>\n",
       "      <td>RESEALABLE PLASTIC BAG</td>\n",
       "      <td>4</td>\n",
       "      <td>12.0</td>\n",
       "      <td>BURGER</td>\n",
       "      <td>CHIPOTLE BLACK BEAN</td>\n",
       "      <td>NaN</td>\n",
       "      <td>MEAT SUBSTITUTE</td>\n",
       "      <td>VALUE NOT AVAILABLE</td>\n",
       "      <td>PLANT BASED</td>\n",
       "      <td>COOK THOROUGHLY</td>\n",
       "    </tr>\n",
       "    <tr>\n",
       "      <th>3</th>\n",
       "      <td>GARDEIN FROZEN CHIPOTLE BLACK BEAN MEAT SUBSTI...</td>\n",
       "      <td>842234003191</td>\n",
       "      <td>AISLE-FROZEN MEAT/POULTRY/SEAFOOD</td>\n",
       "      <td>SUBSTITUTE MEAT/POULTRY/SEAFOOD - FZ/RFG</td>\n",
       "      <td>FZ MEAT SUBSTITUTES</td>\n",
       "      <td>CONAGRA BRANDS</td>\n",
       "      <td>GARDEIN</td>\n",
       "      <td>GARDEIN</td>\n",
       "      <td>BOX</td>\n",
       "      <td>12</td>\n",
       "      <td>48.0</td>\n",
       "      <td>BURGER</td>\n",
       "      <td>CHIPOTLE BLACK BEAN</td>\n",
       "      <td>NaN</td>\n",
       "      <td>MEAT SUBSTITUTE</td>\n",
       "      <td>VALUE NOT AVAILABLE</td>\n",
       "      <td>VEGGIE</td>\n",
       "      <td>COOK THOROUGHLY</td>\n",
       "    </tr>\n",
       "    <tr>\n",
       "      <th>4</th>\n",
       "      <td>GARDEIN FROZEN CHIPOTLE BLACK BEAN MEAT SUBSTI...</td>\n",
       "      <td>842234001191</td>\n",
       "      <td>AISLE-FROZEN MEAT/POULTRY/SEAFOOD</td>\n",
       "      <td>SUBSTITUTE MEAT/POULTRY/SEAFOOD - FZ/RFG</td>\n",
       "      <td>FZ MEAT SUBSTITUTES</td>\n",
       "      <td>CONAGRA BRANDS</td>\n",
       "      <td>GARDEIN</td>\n",
       "      <td>GARDEIN</td>\n",
       "      <td>BOX</td>\n",
       "      <td>12</td>\n",
       "      <td>50.8</td>\n",
       "      <td>BURGER</td>\n",
       "      <td>CHIPOTLE BLACK BEAN</td>\n",
       "      <td>NaN</td>\n",
       "      <td>MEAT SUBSTITUTE</td>\n",
       "      <td>VALUE NOT AVAILABLE</td>\n",
       "      <td>VEGGIE</td>\n",
       "      <td>COOK THOROUGHLY</td>\n",
       "    </tr>\n",
       "  </tbody>\n",
       "</table>\n",
       "</div>"
      ],
      "text/plain": [
       "                                             Product  UPC 13 digit  \\\n",
       "0  GARDEIN FROZEN BEEF MEAT SUBSTITUTE TIP 9 OZ -...  842234000511   \n",
       "1  GARDEIN FROZEN CHICKEN MEAT SUBSTITUTE FILET 1...  842234002491   \n",
       "2  GARDEIN FROZEN CHIPOTLE BLACK BEAN MEAT SUBSTI...  842234001631   \n",
       "3  GARDEIN FROZEN CHIPOTLE BLACK BEAN MEAT SUBSTI...  842234003191   \n",
       "4  GARDEIN FROZEN CHIPOTLE BLACK BEAN MEAT SUBSTI...  842234001191   \n",
       "\n",
       "                          Aisle Name  \\\n",
       "0  AISLE-FROZEN MEAT/POULTRY/SEAFOOD   \n",
       "1  AISLE-FROZEN MEAT/POULTRY/SEAFOOD   \n",
       "2  AISLE-FROZEN MEAT/POULTRY/SEAFOOD   \n",
       "3  AISLE-FROZEN MEAT/POULTRY/SEAFOOD   \n",
       "4  AISLE-FROZEN MEAT/POULTRY/SEAFOOD   \n",
       "\n",
       "                              Category Name    Sub-Category Name  \\\n",
       "0  SUBSTITUTE MEAT/POULTRY/SEAFOOD - FZ/RFG  FZ MEAT SUBSTITUTES   \n",
       "1  SUBSTITUTE MEAT/POULTRY/SEAFOOD - FZ/RFG  FZ MEAT SUBSTITUTES   \n",
       "2  SUBSTITUTE MEAT/POULTRY/SEAFOOD - FZ/RFG  FZ MEAT SUBSTITUTES   \n",
       "3  SUBSTITUTE MEAT/POULTRY/SEAFOOD - FZ/RFG  FZ MEAT SUBSTITUTES   \n",
       "4  SUBSTITUTE MEAT/POULTRY/SEAFOOD - FZ/RFG  FZ MEAT SUBSTITUTES   \n",
       "\n",
       "  Manufacturer Name Brand Franchise Name Brand Name                 Package  \\\n",
       "0    CONAGRA BRANDS              GARDEIN    GARDEIN  RESEALABLE PLASTIC BAG   \n",
       "1    CONAGRA BRANDS              GARDEIN    GARDEIN  RESEALABLE PLASTIC BAG   \n",
       "2    CONAGRA BRANDS              GARDEIN    GARDEIN  RESEALABLE PLASTIC BAG   \n",
       "3    CONAGRA BRANDS              GARDEIN    GARDEIN                     BOX   \n",
       "4    CONAGRA BRANDS              GARDEIN    GARDEIN                     BOX   \n",
       "\n",
       "   Total Count  Total Ounces    Form       Flavor / Scent  Meat Source  \\\n",
       "0            1           9.0     TIP                 BEEF          NaN   \n",
       "1            3          15.0   FILET              CHICKEN          NaN   \n",
       "2            4          12.0  BURGER  CHIPOTLE BLACK BEAN          NaN   \n",
       "3           12          48.0  BURGER  CHIPOTLE BLACK BEAN          NaN   \n",
       "4           12          50.8  BURGER  CHIPOTLE BLACK BEAN          NaN   \n",
       "\n",
       "      Product Type Type Of Meat Substituted Type Of Substitute  \\\n",
       "0  MEAT SUBSTITUTE                     BEEF        PLANT BASED   \n",
       "1  MEAT SUBSTITUTE      VALUE NOT AVAILABLE        PLANT BASED   \n",
       "2  MEAT SUBSTITUTE      VALUE NOT AVAILABLE        PLANT BASED   \n",
       "3  MEAT SUBSTITUTE      VALUE NOT AVAILABLE             VEGGIE   \n",
       "4  MEAT SUBSTITUTE      VALUE NOT AVAILABLE             VEGGIE   \n",
       "\n",
       "       Cooked Info  \n",
       "0  COOK THOROUGHLY  \n",
       "1  COOK THOROUGHLY  \n",
       "2  COOK THOROUGHLY  \n",
       "3  COOK THOROUGHLY  \n",
       "4  COOK THOROUGHLY  "
      ]
     },
     "execution_count": 6,
     "metadata": {},
     "output_type": "execute_result"
    }
   ],
   "source": [
    "df.head()"
   ]
  },
  {
   "cell_type": "code",
   "execution_count": 9,
   "id": "e59ba7c1",
   "metadata": {},
   "outputs": [
    {
     "data": {
      "text/plain": [
       "'GARDEIN FROZEN BEEF MEAT SUBSTITUTE TIP 9 OZ - 0842234000511'"
      ]
     },
     "execution_count": 9,
     "metadata": {},
     "output_type": "execute_result"
    }
   ],
   "source": [
    "df.iloc[0][0]"
   ]
  },
  {
   "cell_type": "code",
   "execution_count": 10,
   "id": "3379556d",
   "metadata": {},
   "outputs": [
    {
     "data": {
      "text/plain": [
       "65"
      ]
     },
     "execution_count": 10,
     "metadata": {},
     "output_type": "execute_result"
    }
   ],
   "source": [
    "len(df)"
   ]
  },
  {
   "cell_type": "code",
   "execution_count": 11,
   "id": "71a4a40c",
   "metadata": {},
   "outputs": [
    {
     "data": {
      "text/plain": [
       "array(['TIP', 'FILET', 'BURGER', 'MEATBALL', 'SLICE', 'PATTY', 'SLICED',\n",
       "       'BREAKFAST PATTY', 'BURGER PATTY', 'CRUMBLE', 'GROUND', 'SLIDER',\n",
       "       'CAKE', 'STRIP', 'BITE', 'CHUNK', 'FINGER', 'BREAST', 'TENDER',\n",
       "       'NUGGET', 'WING', 'PIECE', 'CUTLET'], dtype=object)"
      ]
     },
     "execution_count": 11,
     "metadata": {},
     "output_type": "execute_result"
    }
   ],
   "source": [
    "df['Form'].unique()"
   ]
  },
  {
   "cell_type": "code",
   "execution_count": 20,
   "id": "9051b8ac",
   "metadata": {},
   "outputs": [
    {
     "data": {
      "text/plain": [
       "Text(0.5, 1.0, 'Gardein meat substitute offering by form')"
      ]
     },
     "execution_count": 20,
     "metadata": {},
     "output_type": "execute_result"
    },
    {
     "data": {
      "image/png": "[encoded data removed]",
      "text/plain": [
       "<Figure size 1440x432 with 1 Axes>"
      ]
     },
     "metadata": {
      "needs_background": "light"
     },
     "output_type": "display_data"
    }
   ],
   "source": [
    "plt.figure(figsize=(20, 6))\n",
    "sorted_categories = df['Form'].value_counts().sort_values(ascending=False).index\n",
    "sns.countplot(x='Form', data=df,order=sorted_categories,orient='h')\n",
    "plt.xticks(rotation=45)\n",
    "plt.title('Gardein meat substitute offering by form')"
   ]
  },
  {
   "cell_type": "code",
   "execution_count": 22,
   "id": "0919ac5e",
   "metadata": {},
   "outputs": [
    {
     "data": {
      "text/plain": [
       "<BarContainer object of 23 artists>"
      ]
     },
     "execution_count": 22,
     "metadata": {},
     "output_type": "execute_result"
    },
    {
     "data": {
      "image/png": "[encoded data removed]",
      "text/plain": [
       "<Figure size 432x288 with 1 Axes>"
      ]
     },
     "metadata": {
      "needs_background": "light"
     },
     "output_type": "display_data"
    }
   ],
   "source": [
    "#Wrong plot\n",
    "plt.bar(df['Form'].value_counts().sort_values(ascending=False),sorted_categories)"
   ]
  },
  {
   "cell_type": "code",
   "execution_count": 38,
   "id": "7010a9c0",
   "metadata": {},
   "outputs": [
    {
     "data": {
      "text/plain": [
       "BURGER             7\n",
       "MEATBALL           5\n",
       "FILET              5\n",
       "BREAKFAST PATTY    5\n",
       "STRIP              4\n",
       "WING               4\n",
       "BREAST             4\n",
       "TENDER             4\n",
       "GROUND             4\n",
       "BURGER PATTY       4\n",
       "PATTY              3\n",
       "NUGGET             2\n",
       "CHUNK              2\n",
       "SLICED             2\n",
       "TIP                2\n",
       "SLIDER             1\n",
       "CRUMBLE            1\n",
       "CAKE               1\n",
       "PIECE              1\n",
       "CUTLET             1\n",
       "SLICE              1\n",
       "FINGER             1\n",
       "BITE               1\n",
       "Name: Form, dtype: int64"
      ]
     },
     "execution_count": 38,
     "metadata": {},
     "output_type": "execute_result"
    }
   ],
   "source": [
    "df['Form'].value_counts().sort_values(ascending=False)"
   ]
  },
  {
   "cell_type": "code",
   "execution_count": 35,
   "id": "d21769cb",
   "metadata": {},
   "outputs": [
    {
     "data": {
      "text/plain": [
       "Text(0, 0.5, 'Form')"
      ]
     },
     "execution_count": 35,
     "metadata": {},
     "output_type": "execute_result"
    },
    {
     "data": {
      "image/png": "[encoded data removed]",
      "text/plain": [
       "<Figure size 720x720 with 1 Axes>"
      ]
     },
     "metadata": {
      "needs_background": "light"
     },
     "output_type": "display_data"
    }
   ],
   "source": [
    "plt.figure(figsize=(10, 10))\n",
    "sns.set(style=\"whitegrid\")\n",
    "sns.barplot(x=df['Form'].value_counts().sort_values(ascending=False).values,y=df['Form'].value_counts().sort_values(ascending=False).index)\n",
    "plt.title('Gardein meat substitute offering by Form')\n",
    "plt.xlabel('Count')\n",
    "plt.ylabel('Form')"
   ]
  },
  {
   "cell_type": "code",
   "execution_count": 39,
   "id": "c7c54fb7",
   "metadata": {},
   "outputs": [
    {
     "data": {
      "text/plain": [
       "array(['BEEF', 'CHICKEN', 'CHIPOTLE BLACK BEAN', 'CLASSIC', 'FISH',\n",
       "       'GARDEN', 'HOMESTYLE', 'ITALIAN', 'ITALIAN SAUSAGE',\n",
       "       'MAPLE SAUSAGE', 'ORIGINAL', 'REGULAR', 'SIZZLING SZECHUAN',\n",
       "       'SPICY', 'SWEET & SOUR', 'TERIYAKI', 'ULTIMATE BLACK BEAN',\n",
       "       'ULTIMATE', 'CHICKN MANDARIN ORANGE', 'CHICKEN SCALOPPINI',\n",
       "       'CHIPOTLE LIME', 'MANDARIN ORANGE', 'MARINARA', 'NASHVILLE HOT',\n",
       "       'ROAST', 'SAVORY', '7 GRAIN', 'SWEET & TANGY', 'TURKEY'],\n",
       "      dtype=object)"
      ]
     },
     "execution_count": 39,
     "metadata": {},
     "output_type": "execute_result"
    }
   ],
   "source": [
    "df['Flavor / Scent'].unique()"
   ]
  },
  {
   "cell_type": "code",
   "execution_count": 41,
   "id": "63a54456",
   "metadata": {},
   "outputs": [
    {
     "data": {
      "text/plain": [
       "REGULAR                   25\n",
       "CHICKEN                    4\n",
       "7 GRAIN                    3\n",
       "CHIPOTLE BLACK BEAN        3\n",
       "ULTIMATE BLACK BEAN        2\n",
       "TERIYAKI                   2\n",
       "CLASSIC                    2\n",
       "SAVORY                     2\n",
       "HOMESTYLE                  2\n",
       "CHICKEN SCALOPPINI         1\n",
       "ULTIMATE                   1\n",
       "MAPLE SAUSAGE              1\n",
       "BEEF                       1\n",
       "CHICKN MANDARIN ORANGE     1\n",
       "SIZZLING SZECHUAN          1\n",
       "ITALIAN                    1\n",
       "CHIPOTLE LIME              1\n",
       "TURKEY                     1\n",
       "FISH                       1\n",
       "SWEET & SOUR               1\n",
       "ITALIAN SAUSAGE            1\n",
       "SPICY                      1\n",
       "SWEET & TANGY              1\n",
       "MARINARA                   1\n",
       "GARDEN                     1\n",
       "MANDARIN ORANGE            1\n",
       "ORIGINAL                   1\n",
       "ROAST                      1\n",
       "NASHVILLE HOT              1\n",
       "Name: Flavor / Scent, dtype: int64"
      ]
     },
     "execution_count": 41,
     "metadata": {},
     "output_type": "execute_result"
    }
   ],
   "source": [
    "df['Flavor / Scent'].value_counts().sort_values(ascending=False)"
   ]
  },
  {
   "cell_type": "code",
   "execution_count": 42,
   "id": "1c83eebe",
   "metadata": {},
   "outputs": [
    {
     "data": {
      "text/plain": [
       "Text(0, 0.5, 'Flavour/scent')"
      ]
     },
     "execution_count": 42,
     "metadata": {},
     "output_type": "execute_result"
    },
    {
     "data": {
      "image/png": "[encoded data removed]",
      "text/plain": [
       "<Figure size 720x720 with 1 Axes>"
      ]
     },
     "metadata": {},
     "output_type": "display_data"
    }
   ],
   "source": [
    "plt.figure(figsize=(10, 10))\n",
    "sns.set(style=\"whitegrid\")\n",
    "sns.barplot(x=df['Flavor / Scent'].value_counts().sort_values(ascending=False).values,y=df['Flavor / Scent'].value_counts().sort_values(ascending=False).index)\n",
    "plt.title('Gardein meat substitute offering by Flavour/Scent')\n",
    "plt.xlabel('Count')\n",
    "plt.ylabel('Flavour/scent')\n",
    "plt.xticks(ticks=[1, 2, 3, 4, 5])"
   ]
  },
  {
   "cell_type": "code",
   "execution_count": null,
   "id": "a354c71e",
   "metadata": {},
   "outputs": [],
   "source": []
  }
 ],
 "metadata": {
  "kernelspec": {
   "display_name": "Python 3",
   "language": "python",
   "name": "python3"
  },
  "language_info": {
   "codemirror_mode": {
    "name": "ipython",
    "version": 3
   },
   "file_extension": ".py",
   "mimetype": "text/x-python",
   "name": "python",
   "nbconvert_exporter": "python",
   "pygments_lexer": "ipython3",
   "version": "3.8.8"
  }
 },
 "nbformat": 4,
 "nbformat_minor": 5
}
