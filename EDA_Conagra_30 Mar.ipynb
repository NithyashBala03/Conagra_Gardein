{
 "cells": [
  {
   "cell_type": "code",
   "execution_count": 1,
   "id": "ee955c21",
   "metadata": {},
   "outputs": [],
   "source": [
    "import pandas as pd, numpy as np`, matplotlib.pyplot as plt, seaborn as sns\n",
    "%matplotlib inline"
   ]
  },
  {
   "cell_type": "code",
   "execution_count": 2,
   "id": "c0522f1f",
   "metadata": {},
   "outputs": [],
   "source": [
    "import os"
   ]
  },
  {
   "cell_type": "code",
   "execution_count": 4,
   "id": "af3b2f02",
   "metadata": {},
   "outputs": [],
   "source": [
    "os.chdir('E:/Dallas UT/24 Spring/Predictive Analytics/Conagra/Data')"
   ]
  },
  {
   "cell_type": "code",
   "execution_count": 5,
   "id": "b92ccfb8",
   "metadata": {},
   "outputs": [],
   "source": [
    "prod_att = pd.read_excel('Product Attributes.xlsx')"
   ]
  },
  {
   "cell_type": "code",
   "execution_count": 7,
   "id": "c487b596",
   "metadata": {},
   "outputs": [
    {
     "data": {
      "text/plain": [
       "Product                      object\n",
       "UPC 13 digit                  int64\n",
       "Aisle Name                   object\n",
       "Category Name                object\n",
       "Sub-Category Name            object\n",
       "Manufacturer Name            object\n",
       "Brand Franchise Name         object\n",
       "Brand Name                   object\n",
       "Package                      object\n",
       "Total Count                 float64\n",
       "Total Ounces                float64\n",
       "Form                         object\n",
       "Flavor / Scent               object\n",
       "Meat Source                  object\n",
       "Product Type                 object\n",
       "Type Of Meat Substituted     object\n",
       "Type Of Substitute           object\n",
       "Cooked Info                  object\n",
       "dtype: object"
      ]
     },
     "execution_count": 7,
     "metadata": {},
     "output_type": "execute_result"
    }
   ],
   "source": [
    "prod_att.dtypes\n",
    "# getting the data types of columns"
   ]
  },
  {
   "cell_type": "code",
   "execution_count": 8,
   "id": "1ca2a592",
   "metadata": {},
   "outputs": [
    {
     "data": {
      "text/plain": [
       "pandas.core.series.Series"
      ]
     },
     "execution_count": 8,
     "metadata": {},
     "output_type": "execute_result"
    }
   ],
   "source": [
    "type(prod_att.dtypes)"
   ]
  },
  {
   "cell_type": "code",
   "execution_count": 12,
   "id": "e664a1bd",
   "metadata": {},
   "outputs": [
    {
     "name": "stdout",
     "output_type": "stream",
     "text": [
      "The no of unique values in Product: 50704\n",
      "The no of unique values in UPC 13 digit: 50704\n",
      "The no of unique values in Aisle Name: 2\n",
      "The no of unique values in Category Name: 12\n",
      "The no of unique values in Sub-Category Name: 28\n",
      "The no of unique values in Manufacturer Name: 3185\n",
      "The no of unique values in Brand Franchise Name: 4029\n",
      "The no of unique values in Brand Name: 4701\n",
      "The no of unique values in Package: 252\n",
      "The no of unique values in Total Count: 88\n",
      "The no of unique values in Total Ounces: 733\n",
      "The no of unique values in Form: 389\n",
      "The no of unique values in Flavor / Scent: 2294\n",
      "The no of unique values in Meat Source: 131\n",
      "The no of unique values in Product Type: 139\n",
      "The no of unique values in Type Of Meat Substituted: 48\n",
      "The no of unique values in Type Of Substitute: 119\n",
      "The no of unique values in Cooked Info: 99\n"
     ]
    }
   ],
   "source": [
    "# Indentifying the categorical columns and the number of unique values in overall product attribute\n",
    "\n",
    "for index, values in prod_att.dtypes.items():\n",
    "    print (f'The no of unique values in {index}: {prod_att[index].nunique()}')"
   ]
  },
  {
   "cell_type": "code",
   "execution_count": 14,
   "id": "286b46a4",
   "metadata": {},
   "outputs": [
    {
     "data": {
      "text/plain": [
       "88"
      ]
     },
     "execution_count": 14,
     "metadata": {},
     "output_type": "execute_result"
    }
   ],
   "source": [
    "prod_att['Total Count'].nunique()"
   ]
  },
  {
   "cell_type": "code",
   "execution_count": 15,
   "id": "3add66b2",
   "metadata": {},
   "outputs": [
    {
     "data": {
      "text/html": [
       "<div>\n",
       "<style scoped>\n",
       "    .dataframe tbody tr th:only-of-type {\n",
       "        vertical-align: middle;\n",
       "    }\n",
       "\n",
       "    .dataframe tbody tr th {\n",
       "        vertical-align: top;\n",
       "    }\n",
       "\n",
       "    .dataframe thead th {\n",
       "        text-align: right;\n",
       "    }\n",
       "</style>\n",
       "<table border=\"1\" class=\"dataframe\">\n",
       "  <thead>\n",
       "    <tr style=\"text-align: right;\">\n",
       "      <th></th>\n",
       "      <th>Product</th>\n",
       "      <th>UPC 13 digit</th>\n",
       "      <th>Aisle Name</th>\n",
       "      <th>Category Name</th>\n",
       "      <th>Sub-Category Name</th>\n",
       "      <th>Manufacturer Name</th>\n",
       "      <th>Brand Franchise Name</th>\n",
       "      <th>Brand Name</th>\n",
       "      <th>Package</th>\n",
       "      <th>Total Count</th>\n",
       "      <th>Total Ounces</th>\n",
       "      <th>Form</th>\n",
       "      <th>Flavor / Scent</th>\n",
       "      <th>Meat Source</th>\n",
       "      <th>Product Type</th>\n",
       "      <th>Type Of Meat Substituted</th>\n",
       "      <th>Type Of Substitute</th>\n",
       "      <th>Cooked Info</th>\n",
       "    </tr>\n",
       "  </thead>\n",
       "  <tbody>\n",
       "    <tr>\n",
       "      <th>21510</th>\n",
       "      <td>VEGGIE SELECT FROZEN REGULAR MEAT SUBSTITUTE S...</td>\n",
       "      <td>41720400051</td>\n",
       "      <td>AISLE-FROZEN MEAT/POULTRY/SEAFOOD</td>\n",
       "      <td>SUBSTITUTE MEAT/POULTRY/SEAFOOD - FZ/RFG</td>\n",
       "      <td>FZ MEAT SUBSTITUTES</td>\n",
       "      <td>A DIV OF WD &amp; J INTL INC</td>\n",
       "      <td>VEGGIE SELECT</td>\n",
       "      <td>VEGGIE SELECT</td>\n",
       "      <td>BOX</td>\n",
       "      <td>1.0</td>\n",
       "      <td>7.0</td>\n",
       "      <td>SLICED</td>\n",
       "      <td>REGULAR</td>\n",
       "      <td>NaN</td>\n",
       "      <td>MEAT SUBSTITUTE</td>\n",
       "      <td>BACON</td>\n",
       "      <td>VEGGIE</td>\n",
       "      <td>VALUE NOT AVAILABLE</td>\n",
       "    </tr>\n",
       "    <tr>\n",
       "      <th>21511</th>\n",
       "      <td>MATCH FROZEN GROUND BEEF MEAT SUBSTITUTE GROUN...</td>\n",
       "      <td>886844017011</td>\n",
       "      <td>AISLE-FROZEN MEAT/POULTRY/SEAFOOD</td>\n",
       "      <td>SUBSTITUTE MEAT/POULTRY/SEAFOOD - FZ/RFG</td>\n",
       "      <td>FZ MEAT SUBSTITUTES</td>\n",
       "      <td>AB FOODS LLC</td>\n",
       "      <td>MATCH</td>\n",
       "      <td>MATCH</td>\n",
       "      <td>PLASTIC BAG</td>\n",
       "      <td>1.0</td>\n",
       "      <td>16.0</td>\n",
       "      <td>GROUND</td>\n",
       "      <td>GROUND BEEF</td>\n",
       "      <td>NaN</td>\n",
       "      <td>MEAT SUBSTITUTE</td>\n",
       "      <td>BEEF</td>\n",
       "      <td>PLANT PROTEIN</td>\n",
       "      <td>VALUE NOT AVAILABLE</td>\n",
       "    </tr>\n",
       "    <tr>\n",
       "      <th>21512</th>\n",
       "      <td>MATCH FROZEN ITALIAN SAUSAGE MEAT SUBSTITUTE B...</td>\n",
       "      <td>886844057111</td>\n",
       "      <td>AISLE-FROZEN MEAT/POULTRY/SEAFOOD</td>\n",
       "      <td>SUBSTITUTE MEAT/POULTRY/SEAFOOD - FZ/RFG</td>\n",
       "      <td>FZ MEAT SUBSTITUTES</td>\n",
       "      <td>AB FOODS LLC</td>\n",
       "      <td>MATCH</td>\n",
       "      <td>MATCH</td>\n",
       "      <td>VACUUM PACKED</td>\n",
       "      <td>1.0</td>\n",
       "      <td>16.0</td>\n",
       "      <td>BALL</td>\n",
       "      <td>ITALIAN SAUSAGE</td>\n",
       "      <td>NaN</td>\n",
       "      <td>MEAT SUBSTITUTE</td>\n",
       "      <td>SAUSAGE</td>\n",
       "      <td>PLANT PROTEIN</td>\n",
       "      <td>VALUE NOT AVAILABLE</td>\n",
       "    </tr>\n",
       "    <tr>\n",
       "      <th>21513</th>\n",
       "      <td>MATCH FROZEN MUSHROOM MEAT SUBSTITUTE BURGER 2...</td>\n",
       "      <td>886844014621</td>\n",
       "      <td>AISLE-FROZEN MEAT/POULTRY/SEAFOOD</td>\n",
       "      <td>SUBSTITUTE MEAT/POULTRY/SEAFOOD - FZ/RFG</td>\n",
       "      <td>FZ MEAT SUBSTITUTES</td>\n",
       "      <td>AB FOODS LLC</td>\n",
       "      <td>MATCH</td>\n",
       "      <td>MATCH</td>\n",
       "      <td>PLASTIC BAG</td>\n",
       "      <td>1.0</td>\n",
       "      <td>20.0</td>\n",
       "      <td>BURGER</td>\n",
       "      <td>MUSHROOM</td>\n",
       "      <td>NaN</td>\n",
       "      <td>MEAT SUBSTITUTE</td>\n",
       "      <td>VALUE NOT AVAILABLE</td>\n",
       "      <td>PLANT PROTEIN</td>\n",
       "      <td>VALUE NOT AVAILABLE</td>\n",
       "    </tr>\n",
       "    <tr>\n",
       "      <th>21514</th>\n",
       "      <td>MATCH FROZEN SOUTHWEST MEAT SUBSTITUTE STUFFED...</td>\n",
       "      <td>886844034511</td>\n",
       "      <td>AISLE-FROZEN MEAT/POULTRY/SEAFOOD</td>\n",
       "      <td>SUBSTITUTE MEAT/POULTRY/SEAFOOD - FZ/RFG</td>\n",
       "      <td>FZ MEAT SUBSTITUTES</td>\n",
       "      <td>AB FOODS LLC</td>\n",
       "      <td>MATCH</td>\n",
       "      <td>MATCH</td>\n",
       "      <td>RESEALABLE PLASTIC BAG</td>\n",
       "      <td>1.0</td>\n",
       "      <td>22.0</td>\n",
       "      <td>STUFFED</td>\n",
       "      <td>SOUTHWEST</td>\n",
       "      <td>NaN</td>\n",
       "      <td>MEAT SUBSTITUTE</td>\n",
       "      <td>PORK CHOP</td>\n",
       "      <td>PLANT BASED</td>\n",
       "      <td>VALUE NOT AVAILABLE</td>\n",
       "    </tr>\n",
       "  </tbody>\n",
       "</table>\n",
       "</div>"
      ],
      "text/plain": [
       "                                                 Product  UPC 13 digit  \\\n",
       "21510  VEGGIE SELECT FROZEN REGULAR MEAT SUBSTITUTE S...   41720400051   \n",
       "21511  MATCH FROZEN GROUND BEEF MEAT SUBSTITUTE GROUN...  886844017011   \n",
       "21512  MATCH FROZEN ITALIAN SAUSAGE MEAT SUBSTITUTE B...  886844057111   \n",
       "21513  MATCH FROZEN MUSHROOM MEAT SUBSTITUTE BURGER 2...  886844014621   \n",
       "21514  MATCH FROZEN SOUTHWEST MEAT SUBSTITUTE STUFFED...  886844034511   \n",
       "\n",
       "                              Aisle Name  \\\n",
       "21510  AISLE-FROZEN MEAT/POULTRY/SEAFOOD   \n",
       "21511  AISLE-FROZEN MEAT/POULTRY/SEAFOOD   \n",
       "21512  AISLE-FROZEN MEAT/POULTRY/SEAFOOD   \n",
       "21513  AISLE-FROZEN MEAT/POULTRY/SEAFOOD   \n",
       "21514  AISLE-FROZEN MEAT/POULTRY/SEAFOOD   \n",
       "\n",
       "                                  Category Name    Sub-Category Name  \\\n",
       "21510  SUBSTITUTE MEAT/POULTRY/SEAFOOD - FZ/RFG  FZ MEAT SUBSTITUTES   \n",
       "21511  SUBSTITUTE MEAT/POULTRY/SEAFOOD - FZ/RFG  FZ MEAT SUBSTITUTES   \n",
       "21512  SUBSTITUTE MEAT/POULTRY/SEAFOOD - FZ/RFG  FZ MEAT SUBSTITUTES   \n",
       "21513  SUBSTITUTE MEAT/POULTRY/SEAFOOD - FZ/RFG  FZ MEAT SUBSTITUTES   \n",
       "21514  SUBSTITUTE MEAT/POULTRY/SEAFOOD - FZ/RFG  FZ MEAT SUBSTITUTES   \n",
       "\n",
       "              Manufacturer Name Brand Franchise Name     Brand Name  \\\n",
       "21510  A DIV OF WD & J INTL INC        VEGGIE SELECT  VEGGIE SELECT   \n",
       "21511              AB FOODS LLC                MATCH          MATCH   \n",
       "21512              AB FOODS LLC                MATCH          MATCH   \n",
       "21513              AB FOODS LLC                MATCH          MATCH   \n",
       "21514              AB FOODS LLC                MATCH          MATCH   \n",
       "\n",
       "                      Package  Total Count  Total Ounces     Form  \\\n",
       "21510                     BOX          1.0           7.0   SLICED   \n",
       "21511             PLASTIC BAG          1.0          16.0   GROUND   \n",
       "21512           VACUUM PACKED          1.0          16.0     BALL   \n",
       "21513             PLASTIC BAG          1.0          20.0   BURGER   \n",
       "21514  RESEALABLE PLASTIC BAG          1.0          22.0  STUFFED   \n",
       "\n",
       "        Flavor / Scent Meat Source     Product Type Type Of Meat Substituted  \\\n",
       "21510          REGULAR         NaN  MEAT SUBSTITUTE                    BACON   \n",
       "21511      GROUND BEEF         NaN  MEAT SUBSTITUTE                     BEEF   \n",
       "21512  ITALIAN SAUSAGE         NaN  MEAT SUBSTITUTE                  SAUSAGE   \n",
       "21513         MUSHROOM         NaN  MEAT SUBSTITUTE      VALUE NOT AVAILABLE   \n",
       "21514        SOUTHWEST         NaN  MEAT SUBSTITUTE                PORK CHOP   \n",
       "\n",
       "      Type Of Substitute          Cooked Info  \n",
       "21510             VEGGIE  VALUE NOT AVAILABLE  \n",
       "21511      PLANT PROTEIN  VALUE NOT AVAILABLE  \n",
       "21512      PLANT PROTEIN  VALUE NOT AVAILABLE  \n",
       "21513      PLANT PROTEIN  VALUE NOT AVAILABLE  \n",
       "21514        PLANT BASED  VALUE NOT AVAILABLE  "
      ]
     },
     "execution_count": 15,
     "metadata": {},
     "output_type": "execute_result"
    }
   ],
   "source": [
    "prod_att[prod_att['Category Name']=='SUBSTITUTE MEAT/POULTRY/SEAFOOD - FZ/RFG'].head()"
   ]
  },
  {
   "cell_type": "code",
   "execution_count": 17,
   "id": "ad62e9c4",
   "metadata": {},
   "outputs": [],
   "source": [
    "# Exporting the product attributes of meat substitute category alone for easy analysis in future\n",
    "prod_att[prod_att['Category Name']=='SUBSTITUTE MEAT/POULTRY/SEAFOOD - FZ/RFG'].to_csv('Meat_substitute_product_attributes.csv',index=False)"
   ]
  },
  {
   "cell_type": "code",
   "execution_count": 19,
   "id": "5bc718e1",
   "metadata": {},
   "outputs": [],
   "source": [
    "meatsub_prod_att = pd.read_csv('Meat_substitute_product_attributes.csv')"
   ]
  },
  {
   "cell_type": "code",
   "execution_count": 20,
   "id": "88fec497",
   "metadata": {},
   "outputs": [
    {
     "data": {
      "text/html": [
       "<div>\n",
       "<style scoped>\n",
       "    .dataframe tbody tr th:only-of-type {\n",
       "        vertical-align: middle;\n",
       "    }\n",
       "\n",
       "    .dataframe tbody tr th {\n",
       "        vertical-align: top;\n",
       "    }\n",
       "\n",
       "    .dataframe thead th {\n",
       "        text-align: right;\n",
       "    }\n",
       "</style>\n",
       "<table border=\"1\" class=\"dataframe\">\n",
       "  <thead>\n",
       "    <tr style=\"text-align: right;\">\n",
       "      <th></th>\n",
       "      <th>Product</th>\n",
       "      <th>UPC 13 digit</th>\n",
       "      <th>Aisle Name</th>\n",
       "      <th>Category Name</th>\n",
       "      <th>Sub-Category Name</th>\n",
       "      <th>Manufacturer Name</th>\n",
       "      <th>Brand Franchise Name</th>\n",
       "      <th>Brand Name</th>\n",
       "      <th>Package</th>\n",
       "      <th>Total Count</th>\n",
       "      <th>Total Ounces</th>\n",
       "      <th>Form</th>\n",
       "      <th>Flavor / Scent</th>\n",
       "      <th>Meat Source</th>\n",
       "      <th>Product Type</th>\n",
       "      <th>Type Of Meat Substituted</th>\n",
       "      <th>Type Of Substitute</th>\n",
       "      <th>Cooked Info</th>\n",
       "    </tr>\n",
       "  </thead>\n",
       "  <tbody>\n",
       "    <tr>\n",
       "      <th>0</th>\n",
       "      <td>VEGGIE SELECT FROZEN REGULAR MEAT SUBSTITUTE S...</td>\n",
       "      <td>41720400051</td>\n",
       "      <td>AISLE-FROZEN MEAT/POULTRY/SEAFOOD</td>\n",
       "      <td>SUBSTITUTE MEAT/POULTRY/SEAFOOD - FZ/RFG</td>\n",
       "      <td>FZ MEAT SUBSTITUTES</td>\n",
       "      <td>A DIV OF WD &amp; J INTL INC</td>\n",
       "      <td>VEGGIE SELECT</td>\n",
       "      <td>VEGGIE SELECT</td>\n",
       "      <td>BOX</td>\n",
       "      <td>1.0</td>\n",
       "      <td>7.0</td>\n",
       "      <td>SLICED</td>\n",
       "      <td>REGULAR</td>\n",
       "      <td>NaN</td>\n",
       "      <td>MEAT SUBSTITUTE</td>\n",
       "      <td>BACON</td>\n",
       "      <td>VEGGIE</td>\n",
       "      <td>VALUE NOT AVAILABLE</td>\n",
       "    </tr>\n",
       "    <tr>\n",
       "      <th>1</th>\n",
       "      <td>MATCH FROZEN GROUND BEEF MEAT SUBSTITUTE GROUN...</td>\n",
       "      <td>886844017011</td>\n",
       "      <td>AISLE-FROZEN MEAT/POULTRY/SEAFOOD</td>\n",
       "      <td>SUBSTITUTE MEAT/POULTRY/SEAFOOD - FZ/RFG</td>\n",
       "      <td>FZ MEAT SUBSTITUTES</td>\n",
       "      <td>AB FOODS LLC</td>\n",
       "      <td>MATCH</td>\n",
       "      <td>MATCH</td>\n",
       "      <td>PLASTIC BAG</td>\n",
       "      <td>1.0</td>\n",
       "      <td>16.0</td>\n",
       "      <td>GROUND</td>\n",
       "      <td>GROUND BEEF</td>\n",
       "      <td>NaN</td>\n",
       "      <td>MEAT SUBSTITUTE</td>\n",
       "      <td>BEEF</td>\n",
       "      <td>PLANT PROTEIN</td>\n",
       "      <td>VALUE NOT AVAILABLE</td>\n",
       "    </tr>\n",
       "    <tr>\n",
       "      <th>2</th>\n",
       "      <td>MATCH FROZEN ITALIAN SAUSAGE MEAT SUBSTITUTE B...</td>\n",
       "      <td>886844057111</td>\n",
       "      <td>AISLE-FROZEN MEAT/POULTRY/SEAFOOD</td>\n",
       "      <td>SUBSTITUTE MEAT/POULTRY/SEAFOOD - FZ/RFG</td>\n",
       "      <td>FZ MEAT SUBSTITUTES</td>\n",
       "      <td>AB FOODS LLC</td>\n",
       "      <td>MATCH</td>\n",
       "      <td>MATCH</td>\n",
       "      <td>VACUUM PACKED</td>\n",
       "      <td>1.0</td>\n",
       "      <td>16.0</td>\n",
       "      <td>BALL</td>\n",
       "      <td>ITALIAN SAUSAGE</td>\n",
       "      <td>NaN</td>\n",
       "      <td>MEAT SUBSTITUTE</td>\n",
       "      <td>SAUSAGE</td>\n",
       "      <td>PLANT PROTEIN</td>\n",
       "      <td>VALUE NOT AVAILABLE</td>\n",
       "    </tr>\n",
       "    <tr>\n",
       "      <th>3</th>\n",
       "      <td>MATCH FROZEN MUSHROOM MEAT SUBSTITUTE BURGER 2...</td>\n",
       "      <td>886844014621</td>\n",
       "      <td>AISLE-FROZEN MEAT/POULTRY/SEAFOOD</td>\n",
       "      <td>SUBSTITUTE MEAT/POULTRY/SEAFOOD - FZ/RFG</td>\n",
       "      <td>FZ MEAT SUBSTITUTES</td>\n",
       "      <td>AB FOODS LLC</td>\n",
       "      <td>MATCH</td>\n",
       "      <td>MATCH</td>\n",
       "      <td>PLASTIC BAG</td>\n",
       "      <td>1.0</td>\n",
       "      <td>20.0</td>\n",
       "      <td>BURGER</td>\n",
       "      <td>MUSHROOM</td>\n",
       "      <td>NaN</td>\n",
       "      <td>MEAT SUBSTITUTE</td>\n",
       "      <td>VALUE NOT AVAILABLE</td>\n",
       "      <td>PLANT PROTEIN</td>\n",
       "      <td>VALUE NOT AVAILABLE</td>\n",
       "    </tr>\n",
       "    <tr>\n",
       "      <th>4</th>\n",
       "      <td>MATCH FROZEN SOUTHWEST MEAT SUBSTITUTE STUFFED...</td>\n",
       "      <td>886844034511</td>\n",
       "      <td>AISLE-FROZEN MEAT/POULTRY/SEAFOOD</td>\n",
       "      <td>SUBSTITUTE MEAT/POULTRY/SEAFOOD - FZ/RFG</td>\n",
       "      <td>FZ MEAT SUBSTITUTES</td>\n",
       "      <td>AB FOODS LLC</td>\n",
       "      <td>MATCH</td>\n",
       "      <td>MATCH</td>\n",
       "      <td>RESEALABLE PLASTIC BAG</td>\n",
       "      <td>1.0</td>\n",
       "      <td>22.0</td>\n",
       "      <td>STUFFED</td>\n",
       "      <td>SOUTHWEST</td>\n",
       "      <td>NaN</td>\n",
       "      <td>MEAT SUBSTITUTE</td>\n",
       "      <td>PORK CHOP</td>\n",
       "      <td>PLANT BASED</td>\n",
       "      <td>VALUE NOT AVAILABLE</td>\n",
       "    </tr>\n",
       "  </tbody>\n",
       "</table>\n",
       "</div>"
      ],
      "text/plain": [
       "                                             Product  UPC 13 digit  \\\n",
       "0  VEGGIE SELECT FROZEN REGULAR MEAT SUBSTITUTE S...   41720400051   \n",
       "1  MATCH FROZEN GROUND BEEF MEAT SUBSTITUTE GROUN...  886844017011   \n",
       "2  MATCH FROZEN ITALIAN SAUSAGE MEAT SUBSTITUTE B...  886844057111   \n",
       "3  MATCH FROZEN MUSHROOM MEAT SUBSTITUTE BURGER 2...  886844014621   \n",
       "4  MATCH FROZEN SOUTHWEST MEAT SUBSTITUTE STUFFED...  886844034511   \n",
       "\n",
       "                          Aisle Name  \\\n",
       "0  AISLE-FROZEN MEAT/POULTRY/SEAFOOD   \n",
       "1  AISLE-FROZEN MEAT/POULTRY/SEAFOOD   \n",
       "2  AISLE-FROZEN MEAT/POULTRY/SEAFOOD   \n",
       "3  AISLE-FROZEN MEAT/POULTRY/SEAFOOD   \n",
       "4  AISLE-FROZEN MEAT/POULTRY/SEAFOOD   \n",
       "\n",
       "                              Category Name    Sub-Category Name  \\\n",
       "0  SUBSTITUTE MEAT/POULTRY/SEAFOOD - FZ/RFG  FZ MEAT SUBSTITUTES   \n",
       "1  SUBSTITUTE MEAT/POULTRY/SEAFOOD - FZ/RFG  FZ MEAT SUBSTITUTES   \n",
       "2  SUBSTITUTE MEAT/POULTRY/SEAFOOD - FZ/RFG  FZ MEAT SUBSTITUTES   \n",
       "3  SUBSTITUTE MEAT/POULTRY/SEAFOOD - FZ/RFG  FZ MEAT SUBSTITUTES   \n",
       "4  SUBSTITUTE MEAT/POULTRY/SEAFOOD - FZ/RFG  FZ MEAT SUBSTITUTES   \n",
       "\n",
       "          Manufacturer Name Brand Franchise Name     Brand Name  \\\n",
       "0  A DIV OF WD & J INTL INC        VEGGIE SELECT  VEGGIE SELECT   \n",
       "1              AB FOODS LLC                MATCH          MATCH   \n",
       "2              AB FOODS LLC                MATCH          MATCH   \n",
       "3              AB FOODS LLC                MATCH          MATCH   \n",
       "4              AB FOODS LLC                MATCH          MATCH   \n",
       "\n",
       "                  Package  Total Count  Total Ounces     Form  \\\n",
       "0                     BOX          1.0           7.0   SLICED   \n",
       "1             PLASTIC BAG          1.0          16.0   GROUND   \n",
       "2           VACUUM PACKED          1.0          16.0     BALL   \n",
       "3             PLASTIC BAG          1.0          20.0   BURGER   \n",
       "4  RESEALABLE PLASTIC BAG          1.0          22.0  STUFFED   \n",
       "\n",
       "    Flavor / Scent  Meat Source     Product Type Type Of Meat Substituted  \\\n",
       "0          REGULAR          NaN  MEAT SUBSTITUTE                    BACON   \n",
       "1      GROUND BEEF          NaN  MEAT SUBSTITUTE                     BEEF   \n",
       "2  ITALIAN SAUSAGE          NaN  MEAT SUBSTITUTE                  SAUSAGE   \n",
       "3         MUSHROOM          NaN  MEAT SUBSTITUTE      VALUE NOT AVAILABLE   \n",
       "4        SOUTHWEST          NaN  MEAT SUBSTITUTE                PORK CHOP   \n",
       "\n",
       "  Type Of Substitute          Cooked Info  \n",
       "0             VEGGIE  VALUE NOT AVAILABLE  \n",
       "1      PLANT PROTEIN  VALUE NOT AVAILABLE  \n",
       "2      PLANT PROTEIN  VALUE NOT AVAILABLE  \n",
       "3      PLANT PROTEIN  VALUE NOT AVAILABLE  \n",
       "4        PLANT BASED  VALUE NOT AVAILABLE  "
      ]
     },
     "execution_count": 20,
     "metadata": {},
     "output_type": "execute_result"
    }
   ],
   "source": [
    "meatsub_prod_att.head()"
   ]
  },
  {
   "cell_type": "code",
   "execution_count": 21,
   "id": "49531b5e",
   "metadata": {},
   "outputs": [
    {
     "name": "stdout",
     "output_type": "stream",
     "text": [
      "The no of unique values in Product: 1586\n",
      "The no of unique values in UPC 13 digit: 1586\n",
      "The no of unique values in Aisle Name: 1\n",
      "The no of unique values in Category Name: 1\n",
      "The no of unique values in Sub-Category Name: 6\n",
      "The no of unique values in Manufacturer Name: 173\n",
      "The no of unique values in Brand Franchise Name: 194\n",
      "The no of unique values in Brand Name: 244\n",
      "The no of unique values in Package: 32\n",
      "The no of unique values in Total Count: 21\n",
      "The no of unique values in Total Ounces: 159\n",
      "The no of unique values in Form: 74\n",
      "The no of unique values in Flavor / Scent: 426\n",
      "The no of unique values in Meat Source: 0\n",
      "The no of unique values in Product Type: 18\n",
      "The no of unique values in Type Of Meat Substituted: 48\n",
      "The no of unique values in Type Of Substitute: 119\n",
      "The no of unique values in Cooked Info: 31\n"
     ]
    }
   ],
   "source": [
    "# Indentifying the categorical columns and the number of unique values in meat substitute category product attribute alone\n",
    "\n",
    "for index, values in meatsub_prod_att.dtypes.items():\n",
    "    print (f'The no of unique values in {index}: {meatsub_prod_att[index].nunique()}')"
   ]
  },
  {
   "cell_type": "code",
   "execution_count": 22,
   "id": "bb6a8bc6",
   "metadata": {},
   "outputs": [
    {
     "name": "stdout",
     "output_type": "stream",
     "text": [
      "Product: 1586\n",
      "UPC 13 digit: 1586\n",
      "Aisle Name: 1\n",
      "Category Name: 1\n",
      "Sub-Category Name: 6\n",
      "Manufacturer Name: 173\n",
      "Brand Franchise Name: 194\n",
      "Brand Name: 244\n",
      "Package: 32\n",
      "Total Count: 21\n",
      "Total Ounces: 159\n",
      "Form: 74\n",
      "Flavor / Scent: 426\n",
      "Meat Source: 0\n",
      "Product Type: 18\n",
      "Type Of Meat Substituted: 48\n",
      "Type Of Substitute: 119\n",
      "Cooked Info: 31\n"
     ]
    }
   ],
   "source": [
    "for index, values in meatsub_prod_att.dtypes.items():\n",
    "    print (f'{index}: {meatsub_prod_att[index].nunique()}')"
   ]
  },
  {
   "cell_type": "code",
   "execution_count": 23,
   "id": "0252af46",
   "metadata": {},
   "outputs": [
    {
     "name": "stderr",
     "output_type": "stream",
     "text": [
      "C:\\ProgramData\\Anaconda3\\lib\\site-packages\\IPython\\core\\interactiveshell.py:3165: DtypeWarning: Columns (75,76) have mixed types.Specify dtype option on import or set low_memory=False.\n",
      "  has_raised = await self.run_ast_nodes(code_ast.body, cell_name,\n"
     ]
    }
   ],
   "source": [
    "meatsub_agg_att = pd.read_csv('smeat_aggsales_plus_att.csv')"
   ]
  },
  {
   "cell_type": "code",
   "execution_count": 24,
   "id": "397a9992",
   "metadata": {},
   "outputs": [
    {
     "data": {
      "text/html": [
       "<div>\n",
       "<style scoped>\n",
       "    .dataframe tbody tr th:only-of-type {\n",
       "        vertical-align: middle;\n",
       "    }\n",
       "\n",
       "    .dataframe tbody tr th {\n",
       "        vertical-align: top;\n",
       "    }\n",
       "\n",
       "    .dataframe thead th {\n",
       "        text-align: right;\n",
       "    }\n",
       "</style>\n",
       "<table border=\"1\" class=\"dataframe\">\n",
       "  <thead>\n",
       "    <tr style=\"text-align: right;\">\n",
       "      <th></th>\n",
       "      <th>Geography</th>\n",
       "      <th>Time</th>\n",
       "      <th>Product_x</th>\n",
       "      <th>UPC 13 digit</th>\n",
       "      <th>Unit Sales</th>\n",
       "      <th>Unit Sales No Merch</th>\n",
       "      <th>Unit Sales Any Merch</th>\n",
       "      <th>Unit Sales Price Reductions Only</th>\n",
       "      <th>Unit Sales Feature Only</th>\n",
       "      <th>Unit Sales Display Only</th>\n",
       "      <th>...</th>\n",
       "      <th>Package</th>\n",
       "      <th>Total Count</th>\n",
       "      <th>Total Ounces</th>\n",
       "      <th>Form</th>\n",
       "      <th>Flavor / Scent</th>\n",
       "      <th>Meat Source</th>\n",
       "      <th>Product Type</th>\n",
       "      <th>Type Of Meat Substituted</th>\n",
       "      <th>Type Of Substitute</th>\n",
       "      <th>Cooked Info</th>\n",
       "    </tr>\n",
       "  </thead>\n",
       "  <tbody>\n",
       "    <tr>\n",
       "      <th>0</th>\n",
       "      <td>Total US - Multi Outlet + Conv</td>\n",
       "      <td>Week Ending 01-12-20</td>\n",
       "      <td>MATCH FROZEN GROUND BEEF MEAT SUBSTITUTE GROUN...</td>\n",
       "      <td>886844017011</td>\n",
       "      <td>49.378093</td>\n",
       "      <td>49.378093</td>\n",
       "      <td>NaN</td>\n",
       "      <td>NaN</td>\n",
       "      <td>NaN</td>\n",
       "      <td>NaN</td>\n",
       "      <td>...</td>\n",
       "      <td>PLASTIC BAG</td>\n",
       "      <td>1.0</td>\n",
       "      <td>16.0</td>\n",
       "      <td>GROUND</td>\n",
       "      <td>GROUND BEEF</td>\n",
       "      <td>NaN</td>\n",
       "      <td>MEAT SUBSTITUTE</td>\n",
       "      <td>BEEF</td>\n",
       "      <td>PLANT PROTEIN</td>\n",
       "      <td>VALUE NOT AVAILABLE</td>\n",
       "    </tr>\n",
       "    <tr>\n",
       "      <th>1</th>\n",
       "      <td>Total US - Multi Outlet + Conv</td>\n",
       "      <td>Week Ending 01-19-20</td>\n",
       "      <td>MATCH FROZEN GROUND BEEF MEAT SUBSTITUTE GROUN...</td>\n",
       "      <td>886844017011</td>\n",
       "      <td>48.274877</td>\n",
       "      <td>48.274877</td>\n",
       "      <td>NaN</td>\n",
       "      <td>NaN</td>\n",
       "      <td>NaN</td>\n",
       "      <td>NaN</td>\n",
       "      <td>...</td>\n",
       "      <td>PLASTIC BAG</td>\n",
       "      <td>1.0</td>\n",
       "      <td>16.0</td>\n",
       "      <td>GROUND</td>\n",
       "      <td>GROUND BEEF</td>\n",
       "      <td>NaN</td>\n",
       "      <td>MEAT SUBSTITUTE</td>\n",
       "      <td>BEEF</td>\n",
       "      <td>PLANT PROTEIN</td>\n",
       "      <td>VALUE NOT AVAILABLE</td>\n",
       "    </tr>\n",
       "    <tr>\n",
       "      <th>2</th>\n",
       "      <td>Total US - Multi Outlet + Conv</td>\n",
       "      <td>Week Ending 01-26-20</td>\n",
       "      <td>MATCH FROZEN GROUND BEEF MEAT SUBSTITUTE GROUN...</td>\n",
       "      <td>886844017011</td>\n",
       "      <td>60.459866</td>\n",
       "      <td>60.459866</td>\n",
       "      <td>NaN</td>\n",
       "      <td>NaN</td>\n",
       "      <td>NaN</td>\n",
       "      <td>NaN</td>\n",
       "      <td>...</td>\n",
       "      <td>PLASTIC BAG</td>\n",
       "      <td>1.0</td>\n",
       "      <td>16.0</td>\n",
       "      <td>GROUND</td>\n",
       "      <td>GROUND BEEF</td>\n",
       "      <td>NaN</td>\n",
       "      <td>MEAT SUBSTITUTE</td>\n",
       "      <td>BEEF</td>\n",
       "      <td>PLANT PROTEIN</td>\n",
       "      <td>VALUE NOT AVAILABLE</td>\n",
       "    </tr>\n",
       "    <tr>\n",
       "      <th>3</th>\n",
       "      <td>Total US - Multi Outlet + Conv</td>\n",
       "      <td>Week Ending 02-02-20</td>\n",
       "      <td>MATCH FROZEN GROUND BEEF MEAT SUBSTITUTE GROUN...</td>\n",
       "      <td>886844017011</td>\n",
       "      <td>68.061815</td>\n",
       "      <td>68.061815</td>\n",
       "      <td>NaN</td>\n",
       "      <td>NaN</td>\n",
       "      <td>NaN</td>\n",
       "      <td>NaN</td>\n",
       "      <td>...</td>\n",
       "      <td>PLASTIC BAG</td>\n",
       "      <td>1.0</td>\n",
       "      <td>16.0</td>\n",
       "      <td>GROUND</td>\n",
       "      <td>GROUND BEEF</td>\n",
       "      <td>NaN</td>\n",
       "      <td>MEAT SUBSTITUTE</td>\n",
       "      <td>BEEF</td>\n",
       "      <td>PLANT PROTEIN</td>\n",
       "      <td>VALUE NOT AVAILABLE</td>\n",
       "    </tr>\n",
       "    <tr>\n",
       "      <th>4</th>\n",
       "      <td>Total US - Multi Outlet + Conv</td>\n",
       "      <td>Week Ending 02-09-20</td>\n",
       "      <td>MATCH FROZEN GROUND BEEF MEAT SUBSTITUTE GROUN...</td>\n",
       "      <td>886844017011</td>\n",
       "      <td>63.700755</td>\n",
       "      <td>63.700755</td>\n",
       "      <td>NaN</td>\n",
       "      <td>NaN</td>\n",
       "      <td>NaN</td>\n",
       "      <td>NaN</td>\n",
       "      <td>...</td>\n",
       "      <td>PLASTIC BAG</td>\n",
       "      <td>1.0</td>\n",
       "      <td>16.0</td>\n",
       "      <td>GROUND</td>\n",
       "      <td>GROUND BEEF</td>\n",
       "      <td>NaN</td>\n",
       "      <td>MEAT SUBSTITUTE</td>\n",
       "      <td>BEEF</td>\n",
       "      <td>PLANT PROTEIN</td>\n",
       "      <td>VALUE NOT AVAILABLE</td>\n",
       "    </tr>\n",
       "  </tbody>\n",
       "</table>\n",
       "<p>5 rows × 78 columns</p>\n",
       "</div>"
      ],
      "text/plain": [
       "                        Geography                  Time  \\\n",
       "0  Total US - Multi Outlet + Conv  Week Ending 01-12-20   \n",
       "1  Total US - Multi Outlet + Conv  Week Ending 01-19-20   \n",
       "2  Total US - Multi Outlet + Conv  Week Ending 01-26-20   \n",
       "3  Total US - Multi Outlet + Conv  Week Ending 02-02-20   \n",
       "4  Total US - Multi Outlet + Conv  Week Ending 02-09-20   \n",
       "\n",
       "                                           Product_x  UPC 13 digit  \\\n",
       "0  MATCH FROZEN GROUND BEEF MEAT SUBSTITUTE GROUN...  886844017011   \n",
       "1  MATCH FROZEN GROUND BEEF MEAT SUBSTITUTE GROUN...  886844017011   \n",
       "2  MATCH FROZEN GROUND BEEF MEAT SUBSTITUTE GROUN...  886844017011   \n",
       "3  MATCH FROZEN GROUND BEEF MEAT SUBSTITUTE GROUN...  886844017011   \n",
       "4  MATCH FROZEN GROUND BEEF MEAT SUBSTITUTE GROUN...  886844017011   \n",
       "\n",
       "   Unit Sales  Unit Sales No Merch  Unit Sales Any Merch  \\\n",
       "0   49.378093            49.378093                   NaN   \n",
       "1   48.274877            48.274877                   NaN   \n",
       "2   60.459866            60.459866                   NaN   \n",
       "3   68.061815            68.061815                   NaN   \n",
       "4   63.700755            63.700755                   NaN   \n",
       "\n",
       "   Unit Sales Price Reductions Only  Unit Sales Feature Only  \\\n",
       "0                               NaN                      NaN   \n",
       "1                               NaN                      NaN   \n",
       "2                               NaN                      NaN   \n",
       "3                               NaN                      NaN   \n",
       "4                               NaN                      NaN   \n",
       "\n",
       "   Unit Sales Display Only  ...      Package  Total Count  Total Ounces  \\\n",
       "0                      NaN  ...  PLASTIC BAG          1.0          16.0   \n",
       "1                      NaN  ...  PLASTIC BAG          1.0          16.0   \n",
       "2                      NaN  ...  PLASTIC BAG          1.0          16.0   \n",
       "3                      NaN  ...  PLASTIC BAG          1.0          16.0   \n",
       "4                      NaN  ...  PLASTIC BAG          1.0          16.0   \n",
       "\n",
       "     Form  Flavor / Scent  Meat Source     Product Type  \\\n",
       "0  GROUND     GROUND BEEF          NaN  MEAT SUBSTITUTE   \n",
       "1  GROUND     GROUND BEEF          NaN  MEAT SUBSTITUTE   \n",
       "2  GROUND     GROUND BEEF          NaN  MEAT SUBSTITUTE   \n",
       "3  GROUND     GROUND BEEF          NaN  MEAT SUBSTITUTE   \n",
       "4  GROUND     GROUND BEEF          NaN  MEAT SUBSTITUTE   \n",
       "\n",
       "   Type Of Meat Substituted  Type Of Substitute          Cooked Info  \n",
       "0                      BEEF       PLANT PROTEIN  VALUE NOT AVAILABLE  \n",
       "1                      BEEF       PLANT PROTEIN  VALUE NOT AVAILABLE  \n",
       "2                      BEEF       PLANT PROTEIN  VALUE NOT AVAILABLE  \n",
       "3                      BEEF       PLANT PROTEIN  VALUE NOT AVAILABLE  \n",
       "4                      BEEF       PLANT PROTEIN  VALUE NOT AVAILABLE  \n",
       "\n",
       "[5 rows x 78 columns]"
      ]
     },
     "execution_count": 24,
     "metadata": {},
     "output_type": "execute_result"
    }
   ],
   "source": [
    "meatsub_agg_att.head()"
   ]
  },
  {
   "cell_type": "code",
   "execution_count": 25,
   "id": "ac81bc2c",
   "metadata": {},
   "outputs": [
    {
     "data": {
      "text/plain": [
       "Year  Form            \n",
       "20    BALL                5.411899e+04\n",
       "      BAR                 4.003899e+04\n",
       "      BITE                2.064476e+06\n",
       "      BLOCK               7.876594e+06\n",
       "      BRATWURST           3.300275e+05\n",
       "                              ...     \n",
       "24    TENDERS             1.543785e+04\n",
       "      TIP                 3.752024e+05\n",
       "      ULTRA THIN SLICE    9.082078e+03\n",
       "      WHOLE               1.041383e+02\n",
       "      WING                1.767667e+05\n",
       "Name: Unit Sales, Length: 310, dtype: float64"
      ]
     },
     "execution_count": 25,
     "metadata": {},
     "output_type": "execute_result"
    }
   ],
   "source": [
    "meatsub_agg_att.groupby(['Year','Form']).sum()['Unit Sales']"
   ]
  },
  {
   "cell_type": "code",
   "execution_count": 29,
   "id": "c1cc9f50",
   "metadata": {},
   "outputs": [
    {
     "data": {
      "text/plain": [
       "70"
      ]
     },
     "execution_count": 29,
     "metadata": {},
     "output_type": "execute_result"
    }
   ],
   "source": [
    "meatsub_agg_att['Form'].nunique()\n",
    "# Only 70 unique forms after merging meat substitute product attribute with point of sales dataframe"
   ]
  },
  {
   "cell_type": "code",
   "execution_count": 28,
   "id": "3e96b90c",
   "metadata": {
    "scrolled": true
   },
   "outputs": [
    {
     "name": "stdout",
     "output_type": "stream",
     "text": [
      "GROUND\n",
      "BALL\n",
      "BURGER PATTY\n",
      "CRUMBLE\n",
      "PATTY\n",
      "BURGER\n",
      "LINK\n",
      "MEATBALL\n",
      "PIECE\n",
      "SLICED\n",
      "STEAK\n",
      "SPARE RIBS\n",
      "CHUNK\n",
      "TIP\n",
      "SLICE\n",
      "BREAKFAST PATTY\n",
      "FILET\n",
      "SLIDER\n",
      "CAKE\n",
      "STRIP\n",
      "BITE\n",
      "POPPER\n",
      "BREAKFAST SAUSAGE PATTY\n",
      "HOT DOG\n",
      "PULLED\n",
      "BREAKFAST LINK\n",
      "FRANK\n",
      "ROAST\n",
      "WHOLE\n",
      "STICK\n",
      "NOT STATED ON PACKAGE\n",
      "BLOCK\n",
      "ROLL\n",
      "NUGGET\n",
      "BREAST\n",
      "FINGER\n",
      "TENDER\n",
      "WING\n",
      "CUTLET\n",
      "DICED\n",
      "POPCORN\n",
      "DIPPER\n",
      "BREAKFAST BITES\n",
      "CHUB\n",
      "DINNER SAUSAGE LINK\n",
      "CUBE\n",
      "BAR\n",
      "LOAF\n",
      "MEAT LOAF\n",
      "BRATWURST\n",
      "BREAKFAST SAUSAGE ROLL\n",
      "SPLIT ROPE\n",
      "ROPE\n",
      "ULTRA THIN SLICE\n",
      "DELI SLICED\n",
      "CUT\n",
      "BREAKFAST SAUSAGE LINK\n",
      "GIZZARD\n",
      "RIBLET\n",
      "SAUSAGE\n",
      "DINNER LINK\n",
      "DRUMSTICK\n",
      "FUN NUGGETS\n",
      "SHREDS\n",
      "SHREDDED\n",
      "FRIES\n",
      "TENDERS\n",
      "BINGS\n",
      "SAUSAGE PATTY\n",
      "BAO BUN\n"
     ]
    }
   ],
   "source": [
    "for i in meatsub_agg_att['Form'].unique():\n",
    "    print(i)"
   ]
  },
  {
   "cell_type": "code",
   "execution_count": 53,
   "id": "bf7dbe06",
   "metadata": {},
   "outputs": [
    {
     "data": {
      "text/plain": [
       "379"
      ]
     },
     "execution_count": 53,
     "metadata": {},
     "output_type": "execute_result"
    }
   ],
   "source": [
    "meatsub_agg_att['Flavor / Scent'].nunique()"
   ]
  },
  {
   "cell_type": "code",
   "execution_count": 52,
   "id": "ff83868f",
   "metadata": {},
   "outputs": [
    {
     "data": {
      "text/plain": [
       "Text(0, 0.5, 'Unit sales')"
      ]
     },
     "execution_count": 52,
     "metadata": {},
     "output_type": "execute_result"
    },
    {
     "data": {
      "image/png": "[encoded data removed]",
      "text/plain": [
       "<Figure size 576x360 with 1 Axes>"
      ]
     },
     "metadata": {
      "needs_background": "light"
     },
     "output_type": "display_data"
    }
   ],
   "source": [
    "plt.figure(figsize=(8, 5))\n",
    "meatsub_agg_att[meatsub_agg_att['Geography']=='Total US - Multi Outlet + Conv'].groupby(['Form']).sum()['Unit Sales'].sort_values(ascending=False).head(25).plot(kind='bar')\n",
    "plt.title('Total US - Meat substitute unit sales by Form: 2020-2023')\n",
    "plt.xlabel('Form')\n",
    "plt.ylabel('Unit sales')"
   ]
  },
  {
   "cell_type": "code",
   "execution_count": null,
   "id": "ad632415",
   "metadata": {},
   "outputs": [],
   "source": [
    "plt.figure(figsize=(10, 10))\n",
    "sns.set(style=\"whitegrid\")\n",
    "sns.barplot(x=df['Form'].value_counts().sort_values(ascending=False).values,\n",
    "            y=df['Form'].value_counts().sort_values(ascending=False).index)\n",
    "plt.title('Gardein meat substitute offering by Form')\n",
    "plt.xlabel('Count')\n",
    "plt.ylabel('Form')"
   ]
  },
  {
   "cell_type": "code",
   "execution_count": 39,
   "id": "f146f0d9",
   "metadata": {},
   "outputs": [
    {
     "data": {
      "text/plain": [
       "Form\n",
       "BALL                       2.795031e+06\n",
       "BAO BUN                    4.382152e+01\n",
       "BAR                        1.407645e+03\n",
       "BINGS                      2.876951e+03\n",
       "BITE                       2.316622e+06\n",
       "BLOCK                      7.089615e+06\n",
       "BRATWURST                  5.645807e+05\n",
       "BREAKFAST BITES            1.710729e+04\n",
       "BREAKFAST LINK             2.061436e+06\n",
       "BREAKFAST PATTY            1.821486e+07\n",
       "BREAKFAST SAUSAGE LINK     6.892448e+04\n",
       "BREAKFAST SAUSAGE PATTY    2.220972e+07\n",
       "BREAKFAST SAUSAGE ROLL     1.677372e+06\n",
       "BREAST                     8.059005e+06\n",
       "BURGER                     1.085611e+08\n",
       "BURGER PATTY               4.660408e+07\n",
       "CAKE                       8.858649e+05\n",
       "CHUB                       8.493229e+05\n",
       "CHUNK                      7.814246e+05\n",
       "CRUMBLE                    2.990300e+07\n",
       "CUBE                       1.102344e+06\n",
       "CUT                        5.277660e+00\n",
       "CUTLET                     4.189523e+06\n",
       "DELI SLICED                3.126119e+06\n",
       "DICED                      2.957094e+06\n",
       "Name: Volume Sales, dtype: float64"
      ]
     },
     "execution_count": 39,
     "metadata": {},
     "output_type": "execute_result"
    }
   ],
   "source": [
    "meatsub_agg_att[meatsub_agg_att['Geography']=='Total US - Multi Outlet + Conv'].groupby(['Form']).sum()['Volume Sales'].head(25)"
   ]
  },
  {
   "cell_type": "code",
   "execution_count": 40,
   "id": "3d9edff8",
   "metadata": {},
   "outputs": [
    {
     "data": {
      "text/plain": [
       "Form\n",
       "BALL                       2.436158e+07\n",
       "BAO BUN                    6.484087e+02\n",
       "BAR                        3.889958e+04\n",
       "BINGS                      3.056409e+04\n",
       "BITE                       1.638478e+07\n",
       "BLOCK                      5.651097e+07\n",
       "BRATWURST                  4.420462e+06\n",
       "BREAKFAST BITES            1.617357e+05\n",
       "BREAKFAST LINK             1.998138e+07\n",
       "BREAKFAST PATTY            1.575728e+08\n",
       "BREAKFAST SAUSAGE LINK     6.489480e+05\n",
       "BREAKFAST SAUSAGE PATTY    1.752441e+08\n",
       "BREAKFAST SAUSAGE ROLL     7.935835e+06\n",
       "BREAST                     5.347662e+07\n",
       "BURGER                     7.231495e+08\n",
       "BURGER PATTY               4.107563e+08\n",
       "CAKE                       7.893752e+06\n",
       "CHUB                       1.984597e+06\n",
       "CHUNK                      6.611391e+06\n",
       "CRUMBLE                    1.783785e+08\n",
       "CUBE                       9.847813e+06\n",
       "CUT                        4.394499e+01\n",
       "CUTLET                     2.830762e+07\n",
       "DELI SLICED                3.663711e+07\n",
       "DICED                      1.633637e+07\n",
       "Name: Dollar Sales, dtype: float64"
      ]
     },
     "execution_count": 40,
     "metadata": {},
     "output_type": "execute_result"
    }
   ],
   "source": [
    "meatsub_agg_att[meatsub_agg_att['Geography']=='Total US - Multi Outlet + Conv'].groupby(['Form']).sum()['Dollar Sales'].head(25)"
   ]
  },
  {
   "cell_type": "code",
   "execution_count": 54,
   "id": "99a5a3eb",
   "metadata": {},
   "outputs": [
    {
     "name": "stdout",
     "output_type": "stream",
     "text": [
      "No duplicate entries found.\n"
     ]
    }
   ],
   "source": [
    "duplicates = meatsub_agg_att.duplicated()\n",
    "\n",
    "# If duplicates exist, print the duplicated rows\n",
    "if duplicates.any():\n",
    "    print(\"Duplicate entries found:\")\n",
    "    print(meatsub_agg_att[duplicates])\n",
    "else:\n",
    "    print(\"No duplicate entries found.\")"
   ]
  },
  {
   "cell_type": "code",
   "execution_count": null,
   "id": "1826b7dd",
   "metadata": {},
   "outputs": [],
   "source": []
  }
 ],
 "metadata": {
  "kernelspec": {
   "display_name": "Python 3",
   "language": "python",
   "name": "python3"
  },
  "language_info": {
   "codemirror_mode": {
    "name": "ipython",
    "version": 3
   },
   "file_extension": ".py",
   "mimetype": "text/x-python",
   "name": "python",
   "nbconvert_exporter": "python",
   "pygments_lexer": "ipython3",
   "version": "3.8.8"
  }
 },
 "nbformat": 4,
 "nbformat_minor": 5
}
